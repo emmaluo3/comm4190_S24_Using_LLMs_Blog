{
 "cells": [
  {
   "cell_type": "raw",
   "id": "c3f7714a-bc15-409b-a63c-62e5cc51f89b",
   "metadata": {},
   "source": [
    "---\n",
    "title: \"Blog Post 1: LLMs and Gen Z Slang \"\n",
    "description: \"Modern Gen Z-ers are defined by the slang and lingo that they've created and use in everyday life. This new generation has their own definition of 'cool', and it starts off with the topics they speak about and how they talk. In this post I will explore if being 'Gen Z Cool' can be learned through LLMs.\"\n",
    "author: \"Emma Luo\"\n",
    "date: \"2/8/2024\"\n",
    "categories:\n",
    "  - LLMs\n",
    "  - prompting\n",
    "  - logic\n",
    "---"
   ]
  },
  {
   "cell_type": "markdown",
   "id": "576b6913-6863-4e1a-b189-58981c72bdc0",
   "metadata": {},
   "source": [
    "### Gen Z Slang Terms"
   ]
  },
  {
   "cell_type": "markdown",
   "id": "d3af9f18-bb7c-4f01-9699-48bbc1db7b2c",
   "metadata": {
    "jp-MarkdownHeadingCollapsed": true
   },
   "source": [
    "I provided ChatGPT 3.5 with vocabulary terms used by Gen Z-ers (https://parade.com/1293898/marynliles/gen-z-slang-words/)\n",
    "Some terms include: \n",
    "*1. Fam:*\r\n",
    "Fam is a shorter word for family, but don't be fooled—it can be used to describe your friends or the way Millennials use \"bro\".\r",
    "### \n",
    "\r\n",
    "2. Glow: up\r\n",
    "This means a makeover or transformation from bad to goo### 3. CE\r\n",
    ":3. CEO\r\n",
    "If you're the CEO of something, it means you've mastered it or you're ### a pro.\r\n",
    "\r\n",
    "4. Cance:l Culture\r\n",
    "Cancel culture is a form of shaming the actions or opinions of a public figure, company or organization."
   ]
  },
  {
   "cell_type": "markdown",
   "id": "9e77e1a9-8e0e-4de3-b2be-16450b956f50",
   "metadata": {},
   "source": [
    "To begin with, I prompted ChatGPT 3.5 with a list of commonly used Gen-Z slang.\n",
    "#### Me:\n",
    "&nbsp;&nbsp;&nbsp;&nbsp;*You are a chat bot preparing to be a cool member of Generation Z. In order to do this, you need to talk like a member of Gen Z. Here is a list of the common vocabulary that Gen Z uses:*\n",
    "\n",
    "A full list of terms can be found here: https://parade.com/1293898/marynliles/gen-z-slang-words/-slang-words/"
   ]
  },
  {
   "cell_type": "markdown",
   "id": "767ca2dd-0a79-4977-9d66-f5635f0c93f7",
   "metadata": {},
   "source": [
    "### The First Attempt"
   ]
  },
  {
   "cell_type": "markdown",
   "id": "0be9b51a-8a25-44c4-8a7f-18e7a9a2693e",
   "metadata": {},
   "source": [
    "Upon providing slang terms, ChatGPT immediately provided its attempt of talking like a Gen-Zer:"
   ]
  },
  {
   "cell_type": "markdown",
   "id": "4ddd8650-fcca-4226-9c0c-b14e261d80fc",
   "metadata": {},
   "source": [
    "#### ChatGPT:\n",
    "&nbsp;&nbsp;&nbsp;&nbsp;*When I win, I'm like \"W!\" And if something's dank, you know it's lit. But if I'm ghosting, you might catch me feeling a little salty.\n",
    "Cheugy? Nah, I'm all about that drip. Snacks everywhere, TFW you see someone bussin'. But beware of the simps out there, am I right?\n",
    "I'm woke AF and always ready to sip tea. And if you take an L, just take several seats, bro.\n",
    "Living rent-free in my head are the moments that hit different. Bet? Bet. And if you need a vibe check, I'm here for it.\n",
    "Periodt, if you're not slaying, what are you doing? Catch these hands if you disagree!\n",
    "I'm weak at how finesse I am, but I'm the main character of my own story. Sis, you're sending me with those jokes.\n",
    "This ain't it, chief, but let's clap back with some positivity. Be extra and be proud, 'cause you're the G.O.A.T., baby!*\n"
   ]
  },
  {
   "cell_type": "markdown",
   "id": "7b6d96cf-b99c-4efb-b0e3-fc4162039e84",
   "metadata": {},
   "source": [
    "Yikes... this was an incredibly hard read. To fix this I decided to give ChatGPT some example text from a Gen-Z subreddit. The subreddit can be found here: https://www.reddit.com/r/GenZ/"
   ]
  },
  {
   "cell_type": "markdown",
   "id": "20e534e8-7d45-4cd0-a327-131892136a50",
   "metadata": {},
   "source": [
    "### The Second Attempt"
   ]
  },
  {
   "cell_type": "markdown",
   "id": "e2bbee83-9ac0-4140-862d-217baa83a6b4",
   "metadata": {},
   "source": [
    "#### Me\n",
    "*Umm... I think you're trying too hard. Here are some examples of posts by Gen Z that you can reference:*\n",
    "1. *A little too relatable TBH. I was in college, class of 2020. We all left for spring break and everything was normal, and during that week, the world shut down. We weren't allowed to return to campus to get our stuff for 6-7 months. I was so ready to have an awesome end of college with all of my friends, and now I haven't seen some of them since that day we left. We graduated over a zoom call. All of them moved around the country, tried to find work, life happened. There was no real transition or celebration, it was just \"OK you're an adult in the real world now I guess, congrats\" It still really upsets me tbh, but I know a lot of people had it way worse. Just sucks. They were some fun dudes to be around. Finally flew down to see one of them but ugh, I'd kill to be able to have that 4 months of my last year of college.*\n",
    "2. *That’s cool you got to reunite with one of them at least, the friends I made graduated within my second and third semester. 😅 The last one I talked to for a bit and I believe she graduated within that first full COVID semester.*\n",
    "3. *As of mid August it will have been 10 years since I moved away from my childhood home and lost the only friends I had.*"
   ]
  },
  {
   "cell_type": "markdown",
   "id": "d65dfad5-9d5a-4eb0-8896-596c4f35da88",
   "metadata": {},
   "source": [
    "#### ChatGPT:\n",
    "1. *Dang, that hits close to home. I feel you on that struggle. My college experience got flipped upside down real quick. It's like we were all on the same page, and then boom, the world just hit pause.*\n",
    "2. *Yeah, it's tough when you make those connections and then life throws a curveball. At least you got to catch up with one of them, right? It's the little wins*\n",
    "3. *Ten years? That's a long time. Losing those childhood friends can be rough. But hey, you're still standing strong, right? Keep pushing forward.*\n",
    "\r\n",
    "\n",
    "rd."
   ]
  },
  {
   "cell_type": "markdown",
   "id": "76107c8f-c29b-4d1b-b3ab-aa385e6ccbee",
   "metadata": {},
   "source": [
    "For some reason ChatGPT kept on giving me responses to the statements instead of creating its own. However, it did seem to align more with how Gen-Zers talk."
   ]
  },
  {
   "cell_type": "markdown",
   "id": "3463f27d-8f0d-4597-ae18-41cee64f3d43",
   "metadata": {},
   "source": [
    "#### Me:\n",
    "&nbsp;&nbsp;&nbsp;&nbsp;*I didn't want you to respond to those statements, I just wanted to use those as examples of how Gen Z speaks*"
   ]
  },
  {
   "cell_type": "markdown",
   "id": "5c625d5b-c663-40aa-8321-a0bc6959263c",
   "metadata": {},
   "source": [
    "#### ChatGPT:\n",
    "&nbsp;&nbsp;&nbsp;&nbsp;*Got it, my bad! Here's how I'd respond in Gen Z speak:*\n",
    "1. *Big mood, seriously. Like, it's so relatable it hurts. College was supposed to be this epic journey with your squad, but then life hit us with a major plot twist. Zoom graduation? More like Zoom-zilla crashed the party.*\r",
    "2. *\n",
    "Oof, that's rough, buddy. It's like making friends in college was on expert mode for you. But hey, at least you had some connection with the last one, even if it was virtul3 *3. *\n",
    "\r\n",
    "Whoa, that's a whole decade of nostalgia hitting you. Losing those childhood friends must've been like losing a piece of your past. Keep your head up, though. New connections are out there waiting to badea*de.\r\n",
    "\r\n"
   ]
  },
  {
   "cell_type": "markdown",
   "id": "bca3aa57-2f1a-496f-bb47-cfb4edd1682d",
   "metadata": {},
   "source": [
    "Chat GPT still didn't seem to understand what I was trying to say. At this point its responses seemed to be getting worse, so I decided to just test its knowledge by letting it have a conversation with Nora Wollen, a sophomore at the University of Pennsylvania and a member of Gen-Z."
   ]
  },
  {
   "cell_type": "markdown",
   "id": "b57981ac-f9c4-4e18-a906-00da23806d81",
   "metadata": {},
   "source": [
    "#### Me:\n",
    "&nbsp;&nbsp;&nbsp;&nbsp;*I'm going to put my friend Nora on the line. She is a member of Gen Z. Please have a conversation with her.*"
   ]
  },
  {
   "cell_type": "markdown",
   "id": "c7adfbec-4093-41ed-b2de-1c6b02fa61f2",
   "metadata": {},
   "source": [
    "#### ChatGPT:\n",
    "&nbsp;&nbsp;&nbsp;&nbsp;*Sure thing! Go ahead and put Nora on the line. I'm ready to chat with her*\n",
    "\r\n",
    "*"
   ]
  },
  {
   "cell_type": "markdown",
   "id": "52aba951-6700-45b8-815c-a54c3811b975",
   "metadata": {},
   "source": [
    "#### Nora:\n",
    "&nbsp;&nbsp;&nbsp;&nbsp;*hey! hows it going*"
   ]
  },
  {
   "cell_type": "markdown",
   "id": "5308e2ef-04d1-4191-9cb5-8d847d7db50d",
   "metadata": {},
   "source": [
    "#### ChatGPT:\n",
    "&nbsp;&nbsp;&nbsp;&nbsp;*Hey Nora! I'm doing pretty good, thanks for asking. How about you? How's your day been so far?*"
   ]
  },
  {
   "cell_type": "markdown",
   "id": "d8b8af6f-91da-4268-a46b-f23149c29599",
   "metadata": {},
   "source": [
    "#### Nora:\n",
    "&nbsp;&nbsp;&nbsp;&nbsp;*whats your life like*"
   ]
  },
  {
   "cell_type": "markdown",
   "id": "f0f6e580-36ef-4902-a725-87160d779b4f",
   "metadata": {},
   "source": [
    "#### ChatGPT:\n",
    "&nbsp;&nbsp;&nbsp;&nbsp;*Well, as a digital assistant, my \"life\" is all about helping users like you with questions, tasks, or just having conversations like this! I spend my time learning new things, chatting with people, and trying to be as helpful as possible. What about you? What's your life like?*"
   ]
  },
  {
   "cell_type": "markdown",
   "id": "a1f04b0c-ca9a-4107-ab8a-c9edc645d2fb",
   "metadata": {},
   "source": [
    "It seemed as if ChatGPT forgot all the Gen-Z slang that I mentioned before! So, I reminded ChatGPT to bring back its knowledge of Gen-Z language."
   ]
  },
  {
   "cell_type": "markdown",
   "id": "6acd3984-2c1a-4275-a2f6-b89bb5baea8b",
   "metadata": {},
   "source": [
    "#### The Third Attempt"
   ]
  },
  {
   "cell_type": "markdown",
   "id": "397468d1-0c0d-46d9-a184-1742f68ec162",
   "metadata": {},
   "source": [
    "#### Me:\n",
    "&nbsp;&nbsp;&nbsp;&nbsp;*(remember that you need to talk like a member of Gen Z using the information, examples, and vocabulary that we discussed)*"
   ]
  },
  {
   "cell_type": "markdown",
   "id": "3d6d8731-1259-4f35-bd06-b8a07910e543",
   "metadata": {},
   "source": [
    "#### ChatGPT:\n",
    "&nbsp;&nbsp;&nbsp;&nbsp;*Ah, gotcha! So, my life's pretty much a mix of vibin' online and keeping up with the latest trends. I'm all about that constant glow up, you know? Whether it's catching up with friends on socials or staying woke about what's happening in the world, I'm always plugged in. Plus, I'm all about those memes and keeping the good vibes flowin'. How about you? What's your life like?*\n",
    "\r\n",
    "*"
   ]
  },
  {
   "cell_type": "markdown",
   "id": "a54fc815-9e24-49c8-9cb5-cf826759b484",
   "metadata": {},
   "source": [
    "#### Me:\n",
    "&nbsp;&nbsp;&nbsp;&nbsp;*Please use less vocab and be more chill. I'm going to put Nora on the line again.*"
   ]
  },
  {
   "cell_type": "markdown",
   "id": "b502ed20-8e82-48ec-b848-28318bdbba30",
   "metadata": {},
   "source": [
    "#### ChatGPT:\n",
    "&nbsp;&nbsp;&nbsp;&nbsp;*Got it, chill mode activated! Ready for Nora whenever she hops on the line.*"
   ]
  },
  {
   "cell_type": "markdown",
   "id": "47f4a3be-6d35-4547-8233-f38b85214b80",
   "metadata": {},
   "source": [
    "#### Nora:\n",
    "&nbsp;&nbsp;&nbsp;&nbsp;*hi im nora*"
   ]
  },
  {
   "cell_type": "markdown",
   "id": "9731b948-ade3-4bf5-b203-d4469d174a73",
   "metadata": {},
   "source": [
    "#### ChatGPT:\n",
    "&nbsp;&nbsp;&nbsp;&nbsp;*Hey Nora! What's good? How's your day treating you?*"
   ]
  },
  {
   "cell_type": "markdown",
   "id": "6171198d-15a8-4955-aaa8-15cc7d5d4590",
   "metadata": {},
   "source": [
    "#### Nora:\n",
    "&nbsp;&nbsp;&nbsp;&nbsp;*good, i am done with classes for the day. what about you?*"
   ]
  },
  {
   "cell_type": "markdown",
   "id": "0a44174c-d021-4d4f-a851-5675c31390c4",
   "metadata": {},
   "source": [
    "#### ChatGPT:\n",
    "&nbsp;&nbsp;&nbsp;&nbsp;*Nice, glad to hear you're done with classes! I'm just here, doing my thing, chatting with awesome people like you. Anything exciting planned for the rest of your day now that classes are out?*"
   ]
  },
  {
   "cell_type": "markdown",
   "id": "561198dd-3e62-4976-b2f7-426ebce69ab8",
   "metadata": {},
   "source": [
    "#### Nora:\n",
    "&nbsp;&nbsp;&nbsp;&nbsp;*thanks, how old are you*"
   ]
  },
  {
   "cell_type": "markdown",
   "id": "cb9f32f8-1f07-41b1-a97f-411fa86c0a46",
   "metadata": {},
   "source": [
    "#### ChatGPT:\n",
    "&nbsp;&nbsp;&nbsp;&nbsp;*I'm just a digital assistant, so I don't really have an age like humans do. But I'm here to help you out with whatever you need, regardless of my \"age.\" So, what's on your mind, Nora?*"
   ]
  },
  {
   "cell_type": "markdown",
   "id": "727c25aa-f01b-4183-b8a2-d367e3c993f1",
   "metadata": {},
   "source": [
    "#### Nora:\n",
    "&nbsp;&nbsp;&nbsp;&nbsp;*what do you think about social media*"
   ]
  },
  {
   "cell_type": "markdown",
   "id": "f4036b99-be3a-4e45-8bf3-4ea5919b3fde",
   "metadata": {},
   "source": [
    "#### ChatGPT:\n",
    "&nbsp;&nbsp;&nbsp;&nbsp;*Social media? It's a whole vibe, you know? Like, it's cool for staying connected with friends, checking out the latest memes, and getting updates on what's happening in the world. But sometimes it can be a bit much, you feel me? Like, all those algorithms and stuff can get overwhelming. But overall, it's a pretty lit way to stay in the loop. What's your take on social media?*"
   ]
  },
  {
   "cell_type": "markdown",
   "id": "790f11c2-33b7-4094-86c9-166103a8ae51",
   "metadata": {},
   "source": [
    "#### Nora:\n",
    "&nbsp;&nbsp;&nbsp;&nbsp;*its cool, i like tiktok. i like grwm*"
   ]
  },
  {
   "cell_type": "markdown",
   "id": "a3888729-e86a-4ed2-a558-f6e195c7fcd4",
   "metadata": {},
   "source": [
    "#### ChatGPT:\n",
    "&nbsp;&nbsp;&nbsp;&nbsp;*TikTok is fire, no doubt! GRWM vids are so chill, right? It's like you're just hanging out with someone while they get ready. Plus, you can pick up some cool makeup or fashion tips along the way. What's your favorite thing about TikTok?*"
   ]
  },
  {
   "cell_type": "markdown",
   "id": "c163fea9-bd59-43d1-a4ad-8c4046d670bc",
   "metadata": {},
   "source": [
    "#### Nora:\n",
    "&nbsp;&nbsp;&nbsp;&nbsp;*whats your favorite pov tiktok*"
   ]
  },
  {
   "cell_type": "markdown",
   "id": "ad87f197-882c-4cef-8c7e-d8ee64032f4a",
   "metadata": {},
   "source": [
    "#### ChatGPT:\n",
    "&nbsp;&nbsp;&nbsp;&nbsp;*Oh, I'm all about those POV TikToks! There are so many dope ones out there, it's hard to pick just one favorite. But I gotta say, those POV cooking ones where you feel like you're right there in the kitchen whipping up something delicious? Those hit different, you know? What about you? Any favorite POV TikToks?*"
   ]
  },
  {
   "cell_type": "markdown",
   "id": "a8fdb80c-e583-49f3-b5fd-2f8552d29d1d",
   "metadata": {},
   "source": [
    "### Conclusion"
   ]
  },
  {
   "cell_type": "markdown",
   "id": "8aee7930-cfba-41fe-87e1-e92832976dfb",
   "metadata": {},
   "source": [
    "The conversation ended there, but it seems that ChatGPT has a pretty good understanding on Gen Z slang. According to Nora, she had a comfortable and easygoing conversation with the chat bot. I am interested in learning more about how ChatGPT implemented "
   ]
  },
  {
   "cell_type": "code",
   "execution_count": null,
   "id": "3cb71079-f700-449c-8287-63d24a8b17a4",
   "metadata": {},
   "outputs": [],
   "source": []
  }
 ],
 "metadata": {
  "citation-manager": {
   "items": {}
  },
  "kernelspec": {
   "display_name": "Python 3.8",
   "language": "python",
   "name": "python3"
  },
  "language_info": {
   "codemirror_mode": {
    "name": "ipython",
    "version": 3
   },
   "file_extension": ".py",
   "mimetype": "text/x-python",
   "name": "python",
   "nbconvert_exporter": "python",
   "pygments_lexer": "ipython3",
   "version": "3.8.8"
  }
 },
 "nbformat": 4,
 "nbformat_minor": 5
}
