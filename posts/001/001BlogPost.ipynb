{
 "cells": [
  {
   "cell_type": "raw",
   "id": "c3f7714a-bc15-409b-a63c-62e5cc51f89b",
   "metadata": {},
   "source": [
    "---\n",
    "title: \"Blog Post 1: LLMs and Gen Z Slang \"\n",
    "description: \"\"\n",
    "author: \"Emma Luo\"\n",
    "date: \"2/8/2024\"\n",
    "categories:\n",
    "  - LLMs\n",
    "  - prompting\n",
    "  - logic\n",
    "---"
   ]
  },
  {
   "cell_type": "code",
   "execution_count": null,
   "id": "b13de6a8-6283-40e0-ad13-67653e570905",
   "metadata": {},
   "outputs": [],
   "source": []
  }
 ],
 "metadata": {
  "citation-manager": {
   "items": {}
  },
  "kernelspec": {
   "display_name": "Python 3.8",
   "language": "python",
   "name": "python3"
  },
  "language_info": {
   "codemirror_mode": {
    "name": "ipython",
    "version": 3
   },
   "file_extension": ".py",
   "mimetype": "text/x-python",
   "name": "python",
   "nbconvert_exporter": "python",
   "pygments_lexer": "ipython3",
   "version": "3.8.8"
  }
 },
 "nbformat": 4,
 "nbformat_minor": 5
}
