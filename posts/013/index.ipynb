{
 "cells": [
  {
   "cell_type": "raw",
   "id": "208c7b6a-2fb2-42f2-b19d-7d99ad493b52",
   "metadata": {},
   "source": [
    "---\n",
    "title: \"Shes Country! - Creating Country songs using SUNO AI (Part 1)\"\n",
    "description: \"How well can LLMs detect their own text?\"\n",
    "date: \"5/9/2024\"\n",
    "categories:\n",
    "  - LLMs\n",
    "  - prompting\n",
    "---"
   ]
  },
  {
   "cell_type": "markdown",
   "id": "45ca7f1a-adf7-47e2-9fe7-876dec9691ad",
   "metadata": {},
   "source": [
    "As an avid country music fan, I wanted to explore SUNO AI's capability in creating country music. I started off with the prompt: a country song about the beach, avocado toast, and reading (three of my favorite things). Here is what SUNO gave me: https://suno.com/song/39dfb566-e76a-4373-b76a-07a17a4658ef\n",
    "\n",
    "The song was surprisingly good. You could hear the auto tune at some points which was a little distracting, but overall I could see the potential of using SUNO AI to generate song lyrics, or even produce a song for a singer. I also liked how SUNO would generate cover art for your song, so you could also use this to generate ideas for an album cover"
   ]
  },
  {
   "cell_type": "markdown",
   "id": "496a37c8-4857-41d6-9efb-2a76da8f445d",
   "metadata": {},
   "source": [
    "I also wanted to see the difference in songs if I provided the lyrics instead of having SUNO generate them for me. Therefore, I used Llama3 to generate song lyrics.\n",
    ">Me: generate song lyrics for a country song about the beach, avocado toast, and reading\n",
    "\n",
    ">Llama3: Here's a country song about the beach, avocado toast, and reading:\n",
    "\n",
    "Title: \"Sandy Toes and Good Books\"\n",
    "\n",
    "Verse 1:\n",
    "I woke up this mornin', craving the sea\n",
    "And a plate of avocado toast, just waitin' for me\n",
    "I packed up my beach bag, and headed out to play\n",
    "Where the sun shines bright, and the waves crash all day\n",
    "\n",
    "Chorus:\n",
    "I'm findin' my peace, with my toes in the sand\n",
    "And a good book in my hand, it's the perfect plan\n",
    "I'm lovin' every minute, of this coastal life\n",
    "Sandy toes and good books, my heart is feelin' right\n",
    "\n",
    "Verse 2:\n",
    "I settle in beneath the palm tree's shade\n",
    "With a novel that's callin' me, like a siren's trade\n",
    "I nibble on my toast, with a slice of ripe delight\n",
    "As the seagulls fly overhead, and the ocean shimmers bright\n",
    "\n",
    "Chorus:\n",
    "I'm findin' my peace, with my toes in the sand\n",
    "And a good book in my hand, it's the perfect plan\n",
    "I'm lovin' every minute, of this coastal life\n",
    "Sandy toes and good books, my heart is feelin' right\n",
    "\n",
    "Bridge:\n",
    "Life can get crazy, and the world can get loud\n",
    "But out here, it's just me, and the sound of the crowd\n",
    "Of waves crashin' and the wind blowin' free\n",
    "It's where I come to escape, and just be me\n",
    "\n",
    "Chorus:\n",
    "I'm findin' my peace, with my toes in the sand\n",
    "And a good book in my hand, it's the perfect plan\n",
    "I'm lovin' every minute, of this coastal life\n",
    "Sandy toes and good books, my heart is feelin' right\n",
    "\n",
    "Outro:\n",
    "As the sun dips low, and the day comes to an end\n",
    "I'll curl up with my book, and let the waves be my friend\n",
    "I'll savor every moment, of this beachside delight\n",
    "With my toes in the sand, and my book in sight."
   ]
  },
  {
   "cell_type": "markdown",
   "id": "6e65ba16-1c4c-4138-b855-c51299cdc3bb",
   "metadata": {},
   "source": [
    "I put these lyrics into the 'custom mode' option on SUNO. Here is the link to the song: https://suno.com/song/f202df5a-3813-4893-8357-50c0c07e9e29\n",
    "\n",
    "I liked this song less than the first song, I felt like the lyrics for this one was a little cringey. "
   ]
  },
  {
   "cell_type": "markdown",
   "id": "fa6666b7-cdeb-4660-9781-4a7cfb6d0d57",
   "metadata": {},
   "source": [
    "Another thing I noticed about SUNO is that it prohibits using content from other artists. I attempted to use the prompt: a country song sung by Morgan Wallen about the beach, avocado toast, and reading, however, SUNO said that it couldn't generate the song for me because my prompt contained an artist's name. This is an especially important feature for artists, for not having this feature can make it easy to plagarize and steal content from artists."
   ]
  },
  {
   "cell_type": "markdown",
   "id": "e29b7063-3bcd-429d-bd05-be52bafb034b",
   "metadata": {},
   "source": [
    "Unfortunately, I *really* like Morgan Wallen. Therefore, I asked GPT-4 to provide a description of Morgan Wallen's voice. \n",
    ">Me: give me a description of morgan wallens voice\n",
    ">\n",
    ">GPT-4: Morgan Wallen's voice is distinctive and easily recognizable, characterized by its warm, rich tone that blends elements of classic country with modern twang. His voice has a gravelly texture, adding a raspy quality that conveys emotional depth and authenticity. Wallen's vocal delivery often incorporates a Southern accent, which enhances the storytelling aspect of his music, making his songs feel grounded and relatable. He is capable of both powerful belts and softer, more introspective deliveries, showcasing a versatile range that suits the varied emotional landscapes of his songs.\n",
    ">\n",
    "I then used this description when generating another song (keep in mind that there was a word limit)\n",
    ">New prompt: a country song about the beach, avocado toast, and reading . voice iswarm, rich tone that blends elements of classic country with modern twang. His voice has a gravelly texture, adding a raspy quality\n",
    "\n",
    "SUNO AI then gave me this song: https://suno.com/song/67f0d729-eed0-49e4-9762-ab14c5de9f90 which surprisingly did sound more like Morgan Wallen than the previous two songs. Again, the song was heavily autotuned, so I most likely will not be listening to these versions of these songs on an every day basis. However, if artists began to use SUNO AI to generate song ideas, I don't think it would be obvious that it was AI generated, since despite the autotune, all of these songs sound normal and match up with the country genre and style. Yee haw!"
   ]
  },
  {
   "cell_type": "code",
   "execution_count": null,
   "id": "426f6084-c94d-4e87-be62-331fc4db46ba",
   "metadata": {},
   "outputs": [],
   "source": []
  }
 ],
 "metadata": {
  "citation-manager": {
   "items": {}
  },
  "kernelspec": {
   "display_name": "Python 3.11 (COMM4190)",
   "language": "python",
   "name": "comm4190"
  },
  "language_info": {
   "codemirror_mode": {
    "name": "ipython",
    "version": 3
   },
   "file_extension": ".py",
   "mimetype": "text/x-python",
   "name": "python",
   "nbconvert_exporter": "python",
   "pygments_lexer": "ipython3",
   "version": "3.11.7"
  }
 },
 "nbformat": 4,
 "nbformat_minor": 5
}
