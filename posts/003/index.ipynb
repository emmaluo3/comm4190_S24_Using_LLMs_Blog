{
 "cells": [
  {
   "cell_type": "raw",
   "id": "5705124f-2496-4cd4-80db-837cd97497c1",
   "metadata": {},
   "source": [
    "---\n",
    "title: \"Painting Starry Night\"\n",
    "description: \"In this blog I will be exploring whether I can use LLMs and AI image generation to recreate the famous painting by Van Gogh.\"\n",
    "date: \"2/20/2024\"\n",
    "categories:\n",
    "  - LLMs\n",
    "  - prompting\n",
    "  - logic\n",
    "---"
   ]
  },
  {
   "cell_type": "markdown",
   "id": "4051fc58-6d9c-4e6c-bc35-38491493b42e",
   "metadata": {},
   "source": [
    "### Prompt 1: "
   ]
  },
  {
   "cell_type": "markdown",
   "id": "09b0ed85-1a2b-4441-963e-f76c8fac3a41",
   "metadata": {},
   "source": [
    "Create a moderately abstract landscape painting of an expressive night sky over a small hillside village"
   ]
  },
  {
   "cell_type": "markdown",
   "id": "86a977ac-fa01-405e-88d0-6983f5856d41",
   "metadata": {},
   "source": [
    "<img src=\"starrynight1.png\" style=\"width:50%;\" />"
   ]
  },
  {
   "cell_type": "markdown",
   "id": "f2bcb2e7-0d0f-4828-baa6-a3986ff71e83",
   "metadata": {},
   "source": [
    "###  Prompt 2"
   ]
  },
  {
   "cell_type": "markdown",
   "id": "1d0da444-9fc5-4d64-8177-34e500679ac2",
   "metadata": {},
   "source": [
    " Create a moderately abstract landscape painting of an expressive night sky over a small hillside village. The oil-on-canvas painting is dominated by a night sky roiling with chromatic blue swirls, a glowing yellow crescent moon, and stars rendered as radiating orbs. One or two cypress trees, often described as flame-like, tower over the foreground to the left, their dark branches curling and swaying to the movement of the sky that they partly obscure. Amid all this animation, a structured village sits in the distance on the lower right of the canvas. Straight controlled lines make up the small cottages and the slender steeple of a church, which rises as a beacon against rolling blue hills. The glowing yellow squares of the houses suggest the welcoming lights of peaceful homes, creating a calm corner amid the painting’s turbulence."
   ]
  },
  {
   "cell_type": "markdown",
   "id": "a75c1562-5dd6-479c-9a27-fdb7f57a594f",
   "metadata": {},
   "source": [
    "<img src=\"starrynight2.png\" style=\"width:50%;\" />"
   ]
  },
  {
   "cell_type": "markdown",
   "id": "b6f1aedf-203e-48d6-aa9c-7337d02966be",
   "metadata": {},
   "source": [
    "### Prompt 3"
   ]
  },
  {
   "cell_type": "markdown",
   "id": "16bdb634-4b34-4a19-8666-95cf0f7794c6",
   "metadata": {},
   "source": [
    " Create a moderately abstract landscape painting of an expressive night sky over a small hillside village. The oil-on-canvas painting is dominated by a night sky roiling with chromatic blue swirls, a glowing yellow crescent moon, and stars rendered as radiating orbs. One or two cypress trees, often described as flame-like, tower over the foreground to the left, their dark branches curling and swaying to the movement of the sky that they partly obscure. Amid all this animation, a structured village sits in the distance on the lower right of the canvas. Straight controlled lines make up the small cottages and the slender steeple of a church, which rises as a beacon against rolling blue hills. The glowing yellow squares of the houses suggest the welcoming lights of peaceful homes, creating a calm corner amid the painting’s turbulence. Make sure it is clear that it is a painting: show the brush strokes. Also make it more classical, old fashioned, and abstract."
   ]
  },
  {
   "cell_type": "markdown",
   "id": "35ea0beb-575a-4f5d-b16e-4e279347ef8d",
   "metadata": {},
   "source": [
    "<img src=\"starrynight3.png\" style=\"width:50%;\" />"
   ]
  },
  {
   "cell_type": "markdown",
   "id": "3073b720-0675-4668-ab3e-85b0dccde6f0",
   "metadata": {},
   "source": [
    "## Original Picture:"
   ]
  },
  {
   "cell_type": "markdown",
   "id": "ed5c4d20-aa86-48a8-b016-c5e82e79dc96",
   "metadata": {},
   "source": [
    "<img src=\"starrynight.jpg\" style=\"width:50%;\" />"
   ]
  },
  {
   "cell_type": "code",
   "execution_count": null,
   "id": "7de5c260-098a-491a-bef3-2c067f2c9798",
   "metadata": {},
   "outputs": [],
   "source": []
  }
 ],
 "metadata": {
  "citation-manager": {
   "items": {}
  },
  "kernelspec": {
   "display_name": "Python 3.8",
   "language": "python",
   "name": "python3"
  },
  "language_info": {
   "codemirror_mode": {
    "name": "ipython",
    "version": 3
   },
   "file_extension": ".py",
   "mimetype": "text/x-python",
   "name": "python",
   "nbconvert_exporter": "python",
   "pygments_lexer": "ipython3",
   "version": "3.8.8"
  }
 },
 "nbformat": 4,
 "nbformat_minor": 5
}
