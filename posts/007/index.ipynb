{
 "cells": [
  {
   "cell_type": "raw",
   "id": "896d10d7-bb37-4c53-bcd8-dae4b4b2a4da",
   "metadata": {},
   "source": [
    "---\n",
    "title: \"Baking a Cookie Croissant\"\n",
    "description: \"Can AI comprehend new inventions?\"\n",
    "date: \"3/11/2024\"\n",
    "categories:\n",
    "  - LLMs\n",
    "  - prompting\n",
    "  - logic\n",
    "---"
   ]
  },
  {
   "cell_type": "markdown",
   "id": "861d0b9c-9bb6-4d9a-9ef5-4e43932ceb80",
   "metadata": {},
   "source": [
    "<img src=\"crookie.webp\" style=\"width:50%;\" />"
   ]
  },
  {
   "cell_type": "markdown",
   "id": "1d0dbbc3-6817-4823-8a91-d9a4709fad97",
   "metadata": {},
   "source": [
    "The Cookie Croissant, or \"Crookie\", is all the rave on social media. The virality of this baked good has led to bakeries adding the Crookie to their menus. With the Crookie being a recent invention, I wanted to see the extent of AI's capability in producing images of things that don't 'officially exist yet'. I will be sourcing definitions and recipe of the Crookie from https://mattsfitchef.com/cookie-croissant/"
   ]
  },
  {
   "cell_type": "markdown",
   "id": "93256c95-b55b-4651-a2f4-39128c0f533e",
   "metadata": {},
   "source": [
    "First, I wanted to see what the Dall-e-3' model's interpretation of a Crookie would be without any context."
   ]
  },
  {
   "cell_type": "markdown",
   "id": "a6a50175-c836-4afc-832a-808b84bf842b",
   "metadata": {},
   "source": [
    "    Prompt 1: Generate a croissant cookie"
   ]
  },
  {
   "cell_type": "markdown",
   "id": "4483ade3-abe8-45b1-8789-4e856ea61b18",
   "metadata": {},
   "source": [
    "<img src=\"crookie1.png\" style=\"width:50%;\" />"
   ]
  },
  {
   "cell_type": "markdown",
   "id": "c4ea5f90-7523-4f85-944a-acac26745ced",
   "metadata": {},
   "source": [
    "Next, I prompted using the definition of a Crookie."
   ]
  },
  {
   "cell_type": "markdown",
   "id": "902d9264-c018-49e3-9d85-62ccbe9ac48d",
   "metadata": {},
   "source": [
    "    Prompt 2: Generate a buttery croissant mixed with cookie dough inside and on top"
   ]
  },
  {
   "cell_type": "markdown",
   "id": "4286b1dd-47bc-4932-9624-7008381bc3b2",
   "metadata": {},
   "source": [
    "<img src=\"crookie2.png\" style=\"width:50%;\" />"
   ]
  },
  {
   "cell_type": "markdown",
   "id": "0952df36-08da-4f70-b13f-5a94d94f0c9f",
   "metadata": {},
   "source": [
    "Wow, umm... that's a *lot* of cookie dough.\n",
    "This still isn't correctly showing a Crookie, so I decided to prompt using the full recipe to see if this would help."
   ]
  },
  {
   "cell_type": "markdown",
   "id": "519f3c9f-da57-421c-9628-6f2b35fe19b3",
   "metadata": {},
   "source": [
    "    Prompt: Here is a recipe: Preheat oven or air fryer. Homemade crookies can be baked either in the oven or in the air fryer, depending on your own preferences. The temperature is gonna be slightly different, 350°F (180°F) for oven and 320°F (160°C) for air fryer. Stuff croissant with cookie dough. Slice each butter croissant into two halves, then fill with about 2 to 3 pieces of cookie dough inside. Close and top some more cookie dough.Bake cookie croissants. Line your viral Crookies over a parchment paper covered baking sheet, spacing them apart. Bake in hot oven for 8 to 12 minutes. Generate what the outcome of my baked good would look like."
   ]
  },
  {
   "cell_type": "markdown",
   "id": "20d38f11-25b7-40a4-b107-227a973b15fc",
   "metadata": {},
   "source": [
    "<img src=\"crookie3.png\" style=\"width:50%;\" />"
   ]
  },
  {
   "cell_type": "markdown",
   "id": "4ce29740-7ac2-4117-83a9-6faf70796ad7",
   "metadata": {},
   "source": [
    "I was surprised that Dall-e-3 was able to \"follow a recipe\" and correctly \"baked\" some delicious Crookies! This made me curious to see AI's capability in following directions. So, I prompted using another recipe for a classic dessert: apple pie."
   ]
  },
  {
   "cell_type": "markdown",
   "id": "a68121e0-8821-4207-9c40-3659c0e8ec01",
   "metadata": {},
   "source": [
    "<img src=\"applepie.png\" style=\"width:50%;\" />"
   ]
  },
  {
   "cell_type": "markdown",
   "id": "7b557eda-2a36-45e6-8034-a79d753f1e90",
   "metadata": {},
   "source": [
    "I made sure to omit the word \"apple pie\" when giving the recipe to the model so that it would only be based off the description. Surprisingly, it was able to accurately present a delicious looking apple pie. I was wondering if this was applicable to more complex desserts. So, I prompted using a macaron recipe."
   ]
  },
  {
   "cell_type": "markdown",
   "id": "a541a8ee-cd2d-4b52-88e7-7ca3b863811a",
   "metadata": {},
   "source": [
    "<img src=\"macaron.png\" style=\"width:50%;\" />"
   ]
  },
  {
   "cell_type": "markdown",
   "id": "19d9b8ae-01e2-4d3a-88a4-b32c36d34879",
   "metadata": {},
   "source": [
    "Again, it was able to create perfectly shaped macarons!"
   ]
  },
  {
   "cell_type": "markdown",
   "id": "b9829cae-004e-4dc7-880c-8fe0e1309442",
   "metadata": {},
   "source": [
    "### Conclusion"
   ]
  },
  {
   "cell_type": "markdown",
   "id": "d5fe7ad1-c22e-4303-8a23-56927fbd8b43",
   "metadata": {},
   "source": [
    "Through this, I found out that AI is capable of producing new inventions. I only tested this in the baked goods area so it would be interesting to see if this is applicable to other areas. Moreover, I specifically saw that the model that I used seemed to prefer a set of instructions rather than a description when creating something new, since by providing a set on instructions, such as a recipe, AI is more likely to co"
   ]
  }
 ],
 "metadata": {
  "citation-manager": {
   "items": {}
  },
  "kernelspec": {
   "display_name": "Python 3.8",
   "language": "python",
   "name": "python3"
  },
  "language_info": {
   "codemirror_mode": {
    "name": "ipython",
    "version": 3
   },
   "file_extension": ".py",
   "mimetype": "text/x-python",
   "name": "python",
   "nbconvert_exporter": "python",
   "pygments_lexer": "ipython3",
   "version": "3.8.8"
  }
 },
 "nbformat": 4,
 "nbformat_minor": 5
}
