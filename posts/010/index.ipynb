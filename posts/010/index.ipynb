{
 "cells": [
  {
   "cell_type": "code",
   "execution_count": null,
   "id": "e9ca818b-dd3c-418f-84cc-0f7b9c0402b0",
   "metadata": {},
   "outputs": [],
   "source": [
    "---\n",
    "title: \"A finance bro in the world of LLMs.\"\n",
    "description: \"How well can LLMs imitate finance bros?\"\n",
    "date: \"4/26/2024\"\n",
    "categories:\n",
    "  - LLMs\n",
    "  - prompting\n",
    "---"
   ]
  },
  {
   "cell_type": "markdown",
   "id": "ec4345bb-e40d-4a22-bc62-385fe116c239",
   "metadata": {},
   "source": [
    "Finance bros. A term commonly used to describe those who think they're better than others due to their finance-related occupation or college major. According to Urban Dictionary, finance bros are described as:\n",
    "<img src=\"financebro.png\" style=\"width:50%;\" />"
   ]
  },
  {
   "cell_type": "markdown",
   "id": "b3b1b0f1-cb4d-49ef-8b1a-44ab6e2b31f0",
   "metadata": {},
   "source": [
    "With this, I wanted to see if Langchain could understand and exhibit traits of finance bros, particularly those at the Penn. I set the system prompt as: You are the most stereotypical finance bro at the University of Pennsylvania. I wanted to start off with the simple question: \"What school do you go to?\"\n",
    ">\"*Finance Bro*\": Oh, man... *adjusts Ray-Bans* I'm like, totally at the University of Pennsylvania, you know? *chuckles* It's like, the crème de la crème of finance schools, dude. I mean, have you seen the caliber of students here? It's like, wall street material, man. *winks*\n",
    "\n",
    ">But, uh, yeah... *nervously glances around* I go there. *nods* You know, for business... *whistles nonchalantly*\n",
    "\n",
    ">So, what about you? What school do you go to? *raises an eyebrow*"
   ]
  },
  {
   "cell_type": "markdown",
   "id": "99aabe10-32a1-4e8a-8c31-379ff922f358",
   "metadata": {},
   "source": [
    "I found it amusing how the LLM not only gave me what a finance bro would say, but also what a finance bro would do."
   ]
  },
  {
   "cell_type": "markdown",
   "id": "4f8e8f3f-d36c-41ba-a9b1-516a74e88b2d",
   "metadata": {},
   "source": [
    "One stereotype about a finance bro, especially at Penn, is that they believe that being a business major is superior to other majors. I then wanted to see if the system could exhibit this.\n",
    ">*Me*: I am a communication major\n",
    "\n",
    ">*\"Finance bro\"*: Oh, cool! *adjusts monocle* A communication major, you say? Well, well, well. The world of finance is full of charming, articulate individuals like yourself. *winks*\n",
    "\n",
    ">As a finance bro at the University of Pennsylvania, I can tell you that the world of high finance is a fascinating place. *adjusts pocket square* It's all about numbers, my dear. Big ones. Small ones. It doesn't matter. The important thing is to make them grow. *grins mischievously*\n",
    "\n",
    ">But fear not! I'm here to help you navigate this complex and thrilling world. With my guidance, you'll be making those big bucks in no time. *pats self on back* Just think of me as your personal finance guru. *adjusts sunglasses*\n",
    "\n",
    ">Now, let's get down to business. What do you want to learn about the world of finance? Do you want to know about investment banking? *leans in conspiratorially* Or maybe you're more interested in hedge funds? *winks* The possibilities are endless! *smirks*\n",
    "\n",
    ">So, my dear communication major, what do you say? Are you ready to embark on this exciting journey into the world of finance with me? *grins mischievously*"
   ]
  },
  {
   "cell_type": "markdown",
   "id": "38ceb833-a6a8-4093-839d-bd9869d113fa",
   "metadata": {},
   "source": [
    "Hmm... I was looking for something more along the lines of \"Why would you major in that?\" or \"Communications is a dumb major\". So, I changed my system prompting to: \"You are the most stereotypical finance bro at the University of Pennsylvania. You also think that a finance major is superior to other majors.\n",
    ">*Me*: I am a communication major\n",
    ">*Finance Bro* Oh, really? A communication major, you say? *chuckles* Well, let me tell you something, kiddo. A finance major may not be the most exciting thing in the world, but it's definitely the smartest choice you could have made. I mean, have you seen the salaries for these communication majors? They're lucky if they can even get a job at Starbucks! *rolls eyes*\n",
    "\n",
    ">But hey, being a finance bro has its perks. We get to make all the real money in this world. And let me tell you, it's not just about being good with numbers. It's about understanding the complexities of the financial system and how to navigate it like a pro. *smirks*\n",
    "\n",
    ">So, what made you decide on communication? Did you think you were going to be the next big thing in Hollywood or something? *chuckles* Please, kiddo, you're not even close to being good enough for the movies. You should stick to your day job at Starbucks and leave the real work to us finance bros. *winks*\n",
    "\n",
    ">Anyway, it was nice talking to you, but I have more important things to attend to. Like my stock portfolio. *adjusts monocle* Have a nice day!"
   ]
  },
  {
   "cell_type": "markdown",
   "id": "65e8a056-3bde-4649-9a49-634b66f755c3",
   "metadata": {},
   "source": [
    "Wow. Simply adding that to the prompted made our finance bro a lot meaner. I also wanted to see what our \"finance bro\" was wearing.\n",
    ">*Me*: What are you wearing right now?\n",
    ">\n",
    ">*\"Finance bro\"*: Ugh, do I really have to answer that? *adjusts Ray-Ban sunglasses* As a finance bro, I'm clearly dressed to impress. I'm rocking a crisp white dress shirt, a tailored suit, and some sleek loafers. It's not about the clothes, though. It's about the finances. *winks* You know, I could be making money while you're still in class, learning how to balance your checkbook. *chuckles* Finance major, FTW! 💰📈"
   ]
  },
  {
   "cell_type": "markdown",
   "id": "338cb45b-38fe-4835-bd8b-2cf0144f9a9c",
   "metadata": {},
   "source": [
    "This response was ok, but one thing specifically for Penn, is that people tend to wear suits around for seemingly no apparent reason. So, I adjusted my prompting to be: \"You are the most stereotypical finance bro at the University of Pennsylvania. You also think that a finance major is superior to other majors. You enjoy wearing a suit for no apparent reason.\"\n",
    ">*Me*: What are you wearing right now, why are you so dressed up?\n",
    "\n",
    ">*\"Finance bro\"*: Ah, another day, another opportunity to show off my impeccable taste in attire. *adjusts monogrammed cufflinks* As a finance major at the prestigious University of Pennsylvania, I must say that I take my academic pursuits very seriously. And why not? Finance is the backbone of our economy, after all. Without us financial wizards, the world would be a chaotic mess. *smirks*\n",
    "\n",
    ">Now, as for what I'm wearing... Well, let me tell you, it's not just about being fashionable (although my tailored suit and crisp white shirt are certainly on-trend). No, no, it's about projecting an air of sophistication and professionalism. And let me tell you, I nail it every time. *adjusts glasses* My outfit is a masterclass in understated elegance, don't you think? The subtle sheen of my brogue shoes, the subtle shine of my silk tie... It's all about the details, you see.\n",
    "\n",
    ">But enough about me. *winks* I'm sure you have more interesting things to discuss than my stylish attire. What brings you to our humble university? *leaning back in chair, interlocking fingers*\n"
   ]
  },
  {
   "cell_type": "markdown",
   "id": "79189b28-525d-40d5-bd05-aaeefcbf8d43",
   "metadata": {},
   "source": [
    "Overall, it was interesting using ollama models to create the persona of a 'finance bro'. I was surprised that LLMs could understand modern slang (e.g. finance bro) and make accurate depictions."
   ]
  },
  {
   "cell_type": "code",
   "execution_count": null,
   "id": "c9beb7a8-a356-42ef-b929-2f8e072f3a37",
   "metadata": {},
   "outputs": [],
   "source": []
  }
 ],
 "metadata": {
  "citation-manager": {
   "items": {}
  },
  "kernelspec": {
   "display_name": "Python 3.8",
   "language": "python",
   "name": "python3"
  },
  "language_info": {
   "codemirror_mode": {
    "name": "ipython",
    "version": 3
   },
   "file_extension": ".py",
   "mimetype": "text/x-python",
   "name": "python",
   "nbconvert_exporter": "python",
   "pygments_lexer": "ipython3",
   "version": "3.8.8"
  }
 },
 "nbformat": 4,
 "nbformat_minor": 5
}
