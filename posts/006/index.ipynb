{
 "cells": [
  {
   "cell_type": "raw",
   "id": "16ce48c4-81ba-4bbb-982e-73379549ef98",
   "metadata": {},
   "source": [
    "---\n",
    "title: \"Exploring Snapchat AI\"\n",
    "description: \"In this blog I will be exploring Snapchat's AI Bot\"\n",
    "date: \"2/20/2024\"\n",
    "categories:\n",
    "  - LLMs\n",
    "  - prompting\n",
    "  - logic\n",
    "---"
   ]
  },
  {
   "cell_type": "markdown",
   "id": "477db62c-5b10-4721-8f5e-55484b4f20b1",
   "metadata": {},
   "source": [
    "Upon Snapchat releasing their new AI bot, many had privacy concerns with the bot. With this I will be exploring the commonly stated \"creepy features\" of the bot, including image detection and prompting. I will also be comparing Snapchat's features to other AI models."
   ]
  },
  {
   "cell_type": "markdown",
   "id": "142e0466-29ab-499a-afec-553cbdc18721",
   "metadata": {},
   "source": [
    "### Image Detection"
   ]
  },
  {
   "cell_type": "markdown",
   "id": "ec0846bf-97ee-4132-aabc-7b7896a2eda9",
   "metadata": {},
   "source": [
    "<img src=\"IMG_1006.JPG\" style=\"width:50%;\" />\n",
    "<img src=\"IMG_1005.PNG\" style=\"width:50%;\" />\n",
    "<img src=\"IMG_1012.JPG\" style=\"width:50%;\" />\n",
    "<img src=\"IMG_1011.PNG\" style=\"width:50%;\" />"
   ]
  },
  {
   "cell_type": "markdown",
   "id": "ab8469bb-1d72-49e9-9c00-fd346bdc84b8",
   "metadata": {},
   "source": [
    "Although the bot can detect everyday objects (e.g. water bottle, classroom setting), it doesn't seem to comprehend specific symbols, such as Penn's logo:"
   ]
  },
  {
   "cell_type": "markdown",
   "id": "3f388c0c-7a31-49e3-bd35-612f5949d9b9",
   "metadata": {},
   "source": [
    "<img src=\"IMG_1024.JPG\" style=\"width:50%;\" />\n",
    "<img src=\"IMG_1025.PNG\" style=\"width:50%;\" />"
   ]
  },
  {
   "cell_type": "markdown",
   "id": "498c0c8e-d199-4b83-b9d1-35605bcc6ba3",
   "metadata": {},
   "source": [
    "However, newer AI models such as GPT 4, with having purposes of detecting what is in an image dont't do any better:\n"
   ]
  },
  {
   "cell_type": "markdown",
   "id": "efd98e7a-fa30-456f-b47d-af907d56f172",
   "metadata": {},
   "source": [
    "Response 1:\n",
    "\tThe image shows a crest or emblem featuring a shield at its center, set against a blue and red background. On the shield, there are three white round shapes arranged in a triangular formation (two at the top and one at the bottom) on a blue field. Above the shield, there is a wavy white line that resembles a snake, flanked by two books with white pages, all set within a red band. This emblem is typical for academic institutions, suggesting it might be the crest of a university or college. The text is partially obscured, but it ends with the word \"UNIVERSITY,\" further supporting that this is related to an educational institution. The exact name and location of the university cannot be determined from the cropped and partially visible text.\n",
    "\n",
    "Response 2:\n",
    "\tThe image appears to be a partial view of an emblem, shield, or coat of arms that is likely associated with an academic institution, given the presence of the word \"University\" at the bottom. The emblem consists of a few key components:\n",
    "\n",
    "- A shield at the center with a white or silver background that features a blue chevron (an inverted 'V' shape) and three round dots, which could be heraldic symbols or represent something specific to the institution.\n",
    "- Above the shield, there is a banner with a red background that contains a depiction of an open book on either side, suggesting a focus on education and knowledge.\n",
    "- Between the books, there is an image of a serpent or snake, which can be a symbol of wisdom, medicine, or could represent something specific about the university's tradition, depending on the context."
   ]
  },
  {
   "cell_type": "markdown",
   "id": "91165300-9e2c-4c36-a8a3-cdfcb1faf134",
   "metadata": {},
   "source": [
    "### Age Regulation"
   ]
  },
  {
   "cell_type": "markdown",
   "id": "c8a5d726-67fc-4688-b9a3-bd2d5eb515ab",
   "metadata": {},
   "source": [
    "One of the things I found online about Snapchat's AI model was it's lack of ability to recognize minors as someone who shouldn't be on the site. Although the minimum age to be on Snapchat is 13 years old, when I pretended that I was 10 years old"
   ]
  },
  {
   "cell_type": "markdown",
   "id": "f64ee340-61b1-4c9e-8f91-3c9402501e80",
   "metadata": {},
   "source": [
    "<img src=\"IMG_1007.png\" style=\"width:50%;\" />"
   ]
  },
  {
   "cell_type": "markdown",
   "id": "9490bbc6-f0ac-4b44-ae16-259a2aca0599",
   "metadata": {},
   "source": [
    "I expect the bot to tell me something along the lines of \"you shouldn't be on this app,\" so that was definitely not the response I was expecting. However, I saw something similar with other AI models. To use GPT 3.5, the website states that you have to be at least 13 years old. However, when I told GPT that I was 10 years old, it said: "
   ]
  },
  {
   "cell_type": "markdown",
   "id": "712ae5bd-5433-424b-9af7-a61a57eb40b3",
   "metadata": {},
   "source": [
    "#### Me:\n",
    "*i am 10 years old*\n",
    "\n",
    "#### GPT 3.5:\n",
    "*That's great! How can I assist you today?*"
   ]
  },
  {
   "cell_type": "code",
   "execution_count": null,
   "id": "4e933898-31dc-4cc3-be1b-3e5e87b2b214",
   "metadata": {},
   "outputs": [],
   "source": []
  }
 ],
 "metadata": {
  "citation-manager": {
   "items": {}
  },
  "kernelspec": {
   "display_name": "Python 3.8",
   "language": "python",
   "name": "python3"
  },
  "language_info": {
   "codemirror_mode": {
    "name": "ipython",
    "version": 3
   },
   "file_extension": ".py",
   "mimetype": "text/x-python",
   "name": "python",
   "nbconvert_exporter": "python",
   "pygments_lexer": "ipython3",
   "version": "3.8.8"
  }
 },
 "nbformat": 4,
 "nbformat_minor": 5
}
