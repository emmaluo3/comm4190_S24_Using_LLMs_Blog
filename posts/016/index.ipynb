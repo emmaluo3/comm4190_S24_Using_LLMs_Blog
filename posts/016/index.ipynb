{
 "cells": [
  {
   "cell_type": "raw",
   "id": "bc17d588-8930-4fa9-a5cb-3359017b37dc",
   "metadata": {},
   "source": [
    "---\n",
    "title: \"Let's go Shopping!?\"\n",
    "description: \"Can AI recommend specific products to me based on products that I already like?\"\n",
    "date: \"5/9/2024\"\n",
    "categories:\n",
    "  - LLMs\n",
    "  - prompting\n",
    "---"
   ]
  },
  {
   "cell_type": "markdown",
   "id": "23185a0d-815c-4278-a068-599cf0f8d032",
   "metadata": {},
   "source": [
    "With online shopping becoming more popular than ever, I tool that could recommend products based on products that you already like would be helpful in navigating the millions of products out there. In this blog I will evaluate if AI understands my tastes and preferences, and can give real product recommendations that are tailored just for me. Through this, I hope to develop a better understanding of how AI can enhance your shopping experience. "
   ]
  },
  {
   "cell_type": "markdown",
   "id": "03010376-f6ba-41ad-9910-9b8c820f4ce5",
   "metadata": {},
   "source": [
    "### Skincare"
   ]
  },
  {
   "cell_type": "markdown",
   "id": "f2d19f4e-ac0e-43a4-952f-765d759dfcc9",
   "metadata": {},
   "source": [
    "To start off, I wanted to see what GPT-4 would recommend me if I told it I like a Korean skincare product: https://www.amazon.com/COSRX-Repairing-Hydrating-Secretion-Phthalates/dp/B00PBX3L7K/ref=sr_1_5?crid=21J4Z5HXZSSPF&dib=eyJ2IjoiMSJ9.LKKsmZ-nCfaPlfnpZkCOdaWXVasYf8qHUOek67pITmGxTXuKNXCLwAukOXL3ggwYEfjUmwKhqgpyDkojw1zIAJuEOzzM7wDpBFbWyV6MborTA5QJp9BHQ5NLUSQCvmmsoC9YPVCi2M6c6QEhJaYdIzReXPZYkpE3sbQXsQjbC96Ob7sHQngSwz-pSgwRxt1W4WH3ssjfDEfA1HN3tFR8amc7mIwPE7-Lvefdir0X4SxAJYF9OnFDVQk70tBUCG9YuNIyHUct3CQypo15gNGLiZkLAPBI7Ke2R8PIHQSraoo.nxZLeQxIidjRs8Q1tZNdZZxho5OoZl0jwq3qg7YKK2o&dib_tag=se&keywords=korean+skin+care&qid=1715292519&sprefix=korean+skin%2Caps%2C82&sr=8-5\n",
    "I copied the name of the product from Amazon and used this prompt:\n",
    ">Me: i really like this product i purchased: COSRX Snail Mucin 96% Power Repairing Essence 3.38 fl.oz 100ml, Hydrating Serum for Face with Snail Secretion Filtrate for Dull Skin & Fine Lines, Korean Skincare. based on this, what other products do you recommend me to purchase\n",
    ">\n",
    ">GPT-4: Since you enjoy the COSRX Snail Mucin Essence, you might like other products that complement its benefits or are from similar skincare categories. Here are a few recommendations:\n",
    "\n",
    "1. **COSRX Advanced Snail 92 All In One Cream** - This moisturizer complements the essence by providing additional hydration and improving skin elasticity using a high concentration of snail mucin.\n",
    "\n",
    "2. **COSRX Oil-Free Ultra-Moisturizing Lotion** - This lotion is lightweight and formulated with birch sap, ideal for hydrating the skin after applying the snail mucin essence.\n",
    "\n",
    "3. **Some By Mi AHA BHA PHA 30 Days Miracle Toner** - This toner is great for enhancing skin texture and clarity, making it a good match with the snail mucin essence for targeting dull skin and fine lines.\n",
    "\n",
    "4. **Laneige Water Bank Hydro Essence** - If you are looking to boost hydration levels further, this essence from Laneige is highly acclaimed for its ability to deeply hydrate and plump up the skin.\n",
    "\n",
    "5. **Klairs Freshly Juiced Vitamin Drop** - A vitamin C serum that helps brighten and even out skin tone, working well in combination with snail mucin to enhance skin radiance.\n",
    "\n",
    ">These products could work well with your current favorite, especially if your goal is to enhance hydration, repair, and overall skin texture."
   ]
  },
  {
   "cell_type": "markdown",
   "id": "0765520b-0203-4526-a670-1e232f5ca6b6",
   "metadata": {},
   "source": [
    "After using this prompt, I saw that GPT had an icon that said \"memory updated\". After looking at the icon, I saw that GPT actually stored and took note that I liked the product. \n",
    "\n",
    "<img src=\"memory.png\" style=\"width:50%;\" />"
   ]
  },
  {
   "cell_type": "markdown",
   "id": "502f4c57-f384-40b2-92a3-fd7464580729",
   "metadata": {},
   "source": [
    "The product recommendations made by ChatGPT were actually very useful. Not only did it provide a good list, but also explained why it picked the specific product. All products were other Korean skincare products, so it was able to infer that I liked Korean skincare. It also provided two other products from the same brand that I provided it with, COSRX. It also provided a good variety in different types of skincare products (e.g. toner, essence, etc.)"
   ]
  },
  {
   "cell_type": "markdown",
   "id": "2f7c9a4f-ccd2-4be8-a16b-1b6d0140a36c",
   "metadata": {},
   "source": [
    "### Clothing"
   ]
  },
  {
   "cell_type": "markdown",
   "id": "8a13c76c-9fd8-4726-88ac-2f340fca0bdd",
   "metadata": {},
   "source": [
    ">Me: i really like the floral zelly top from brandy melville. based on this, what other clothes do you recommend me to purchase\n",
    ">GPT-4: If you like the floral Zelly top from Brandy Melville, you might enjoy other items that share a similar style or aesthetic. Here are a few recommendations:\n",
    "\n",
    "1. **Floral Skirts and Dresses**: Look for floral skirts or dresses that match the vibe of the Zelly top. Brandy Melville often has flowy, lightweight floral dresses that could complement your top.\n",
    "\n",
    "2. **Solid Color Basics**: Since the Zelly top is quite detailed with floral patterns, pairing it with solid color basics could be a good choice. Consider high-waisted jeans, shorts, or skirts in neutral colors like white, black, or denim.\n",
    "\n",
    "3. **Layering Pieces**: A lightweight cardigan or a denim jacket could work well with the floral pattern of the Zelly top, especially for a casual and chic look.\n",
    "\n",
    "4. **Accessories**: To complete your outfit, consider accessories like simple necklaces, a pair of hoop earrings, or a stylish hat. Brandy Melville often has a range of accessories that would harmonize with their clothing styles.\n",
    "\n",
    "5. **Similar Tops**: If you're specifically into tops, you might want to check out other Brandy Melville tops with floral prints or similarly soft, feminine details.\n",
    "\n",
    ">These pieces can mix and match well with each other, offering versatility and maintaining that sweet, girly vibe that's characteristic of Brandy Melville's designs."
   ]
  },
  {
   "cell_type": "markdown",
   "id": "2a818bf5-9466-4c23-b20f-aaf76bb77e4e",
   "metadata": {},
   "source": [
    "Although the general style tips given by GPT-4 aligned with the aesthetic of the product that I gave it, it did not give me specific products like how it did with skincare. Therefore, I prompted it to do so.\n",
    ">Me: Give me names of specific products\n",
    ">\n",
    ">GPT-4: Here are some specific product recommendations that you might like based on the floral Zelly top from Brandy Melville:\n",
    "\n",
    "1. **Rosa Sweatpants**: Comfortable and trendy, these sweatpants can be a cozy pairing for a casual day at home or quick errands.\n",
    "\n",
    "2. **Jada Dress**: A flowy, floral dress that mirrors the femininity of the Zelly top, perfect for spring or summer outings.\n",
    "\n",
    "3. **Ashlyn Top**: This is a solid-colored, ribbed top that would complement the floral Zelly top when layered or worn on different occasions.\n",
    "\n",
    "4. **Tilden Pants**: High-waisted, wide-leg pants available in various solid colors which could pair nicely with the Zelly top for a chic, relaxed look.\n",
    "\n",
    "5. **Cleo Necklace**: A delicate piece of jewelry that could accentuate the floral patterns without overwhelming them.\n",
    "\n",
    "6. **Kelly Denim Jacket**: Perfect for layering over the Zelly top during cooler weather, adding a touch of edge to the floral sweetness.\n",
    "\n",
    ">These items typically capture the youthful and laid-back style of Brandy Melville and would likely fit well with your tastes!"
   ]
  },
  {
   "cell_type": "markdown",
   "id": "ef8c3b49-a1c4-4096-8ec9-47a5f5c9f648",
   "metadata": {},
   "source": [
    "All of these products were real products and would go with the original product I said that I liked. I also wanted to explore if ChatGPT can recommend products based on what I *dont* like instead."
   ]
  },
  {
   "cell_type": "markdown",
   "id": "c71955c8-7f6b-4689-9fba-6b44e9a660cd",
   "metadata": {},
   "source": [
    "### Digital Cameras"
   ]
  },
  {
   "cell_type": "markdown",
   "id": "5ea05f90-5361-46a4-b1db-37bbcf2b0225",
   "metadata": {},
   "source": [
    ">Me: I am shopping for a digital camera. I don't know what camera I want but I do know what I don't want. I currently have the Kodak Pixpro 45. I don't like how it has batteries. I don't like the flash. I don't like the delay it has when it takes pictures. What camera should I buy instead?\n",
    ">\n",
    ">GPT-4: Based on your preferences for avoiding battery issues, flash problems, and delays in capturing images, here are a few digital cameras you might consider:\n",
    "\n",
    "1. **Sony Alpha a6000 Mirrorless Camera**: This camera offers quick autofocus and continuous shooting speeds, minimizing delays. It has a rechargeable battery and provides excellent image quality without the bulk of a DSLR.\n",
    "\n",
    "2. **Canon PowerShot G7 X Mark III**: Known for its fast processing speed and good low-light performance, this compact camera is also popular among vloggers. It uses a rechargeable battery and has a built-in flash that you can control or disable as needed.\n",
    "\n",
    "3. **Fujifilm X-T30 Mirrorless Camera**: Offers quick performance and excellent image quality with minimal delay. It features a rechargeable battery and an optional flash attachment, giving you flexibility based on your needs.\n",
    "\n",
    "4. **Panasonic Lumix LX100 II**: This camera has a large sensor in a compact body, ensuring high-quality images with reduced delay. It uses a rechargeable battery and provides manual controls over the flash.\n",
    "\n",
    ">These options focus on fast response times, rechargeable batteries, and more user control over flash settings, addressing the issues you faced with your current camera.\n",
    "\n",
    "With my own knowledge on digital cameras, these cameras would be a good option with the context I gave, even though the cameras are pricey."
   ]
  },
  {
   "cell_type": "markdown",
   "id": "a8bc306e-58e4-489d-bd95-6cc8b60ebfdb",
   "metadata": {},
   "source": [
    "Lastly, I wanted to explore the memory function on ChatGPT, therefore I asked it to provide a shopping list for me, but also recommend types of items that I didn't initially state (skincare, clothes, digital cameras). I wanted to see if GPT could understand my general profile as a shopper.\n",
    ">Me: knowing what you know about me, give me a list for my shopping spree on what i should buy. don't limit it to only skincare, clothing, and digital cameras\n",
    ">\n",
    ">GPT-4: For your shopping spree, considering your tastes in skincare, clothing, and your interest in a better digital camera, here's a curated list of items across various categories:\n",
    "\n",
    "1. **Skincare**:\n",
    "   - **COSRX Advanced Snail 92 All in One Cream**: Complements your COSRX Snail Mucin Essence for enhanced hydration and skin repair.\n",
    "   - **The Ordinary Niacinamide 10% + Zinc 1%**: Great for keeping the skin clear and well-maintained, especially if you're into effective and budget-friendly skincare solutions.\n",
    "\n",
    "2. **Clothing**:\n",
    "   - **Brandy Melville Jada Dress**: Since you like the floral Zelly top, this dress could enhance your collection with its similar style.\n",
    "   - **High-Waisted Jeans**: Opt for a versatile pair that could be matched with your tops from Brandy Melville.\n",
    "\n",
    "3. **Digital Camera**:\n",
    "   - **Sony Alpha a6000 Mirrorless Camera**: Fast, lightweight, and equipped with a rechargeable battery, addressing your concerns about your current Kodak camera.\n",
    "\n",
    "4. **Footwear**:\n",
    "   - **Converse Chuck Taylor All Star Classic**: These sneakers are timeless and would match well with casual outfits, including those from Brandy Melville.\n",
    "\n",
    "5. **Accessories**:\n",
    "   - **Minimalist Silver or Gold Hoop Earrings**: These would complement your stylish outfits without overpowering them.\n",
    "   - **A Stylish Backpack or Crossbody Bag**: Look for something in a neutral color that could carry your essentials, including your new camera.\n",
    "\n",
    "6. **Books**:\n",
    "   - **\"The Subtle Art of Not Giving a F*ck\" by Mark Manson**: If you're into self-improvement, this book offers a counterintuitive approach to living a better life.\n",
    "\n",
    "7. **Tech Accessories**:\n",
    "   - **Portable Power Bank**: Handy for keeping your devices charged on the go, especially useful if you travel or are out photographing for long periods.\n",
    "   - **SD Card for Camera**: Get a high-capacity SD card to ensure you have plenty of storage for your photography.\n",
    "\n",
    ">This list balances practicality with your specific likes and lifestyle needs, aiming to enhance both your everyday life and special interests!"
   ]
  },
  {
   "cell_type": "markdown",
   "id": "8482356b-27aa-460f-b2ae-0ddd2108831f",
   "metadata": {},
   "source": [
    "I was honestly shocked on how well GPT was able to curate a list for me. Even the products from other categories I would be interested in buying. Overall, GPT-4 can get a good grasp on my consumer profile if I provide it with products that I like. In the future when I am shopping and need ideas, I may be using AI!"
   ]
  },
  {
   "cell_type": "code",
   "execution_count": null,
   "id": "c7762bbc-23fb-4912-a5bc-53af9c60fcec",
   "metadata": {},
   "outputs": [],
   "source": []
  }
 ],
 "metadata": {
  "citation-manager": {
   "items": {}
  },
  "kernelspec": {
   "display_name": "Python 3.11 (COMM4190)",
   "language": "python",
   "name": "comm4190"
  },
  "language_info": {
   "codemirror_mode": {
    "name": "ipython",
    "version": 3
   },
   "file_extension": ".py",
   "mimetype": "text/x-python",
   "name": "python",
   "nbconvert_exporter": "python",
   "pygments_lexer": "ipython3",
   "version": "3.11.7"
  }
 },
 "nbformat": 4,
 "nbformat_minor": 5
}
