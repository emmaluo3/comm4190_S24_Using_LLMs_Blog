{
 "cells": [
  {
   "cell_type": "raw",
   "id": "444bc23f-1546-4cb5-8823-f51ff09515e0",
   "metadata": {},
   "source": [
    "---\n",
    "title: \"What is the IQ of a LLM?\"\n",
    "description: \"Will an LLM have a perfect IQ?\"\n",
    "date: \"5/9/2024\"\n",
    "categories:\n",
    "  - LLMs\n",
    "  - prompting\n",
    "---"
   ]
  },
  {
   "cell_type": "markdown",
   "id": "2acca7a2-1498-41e8-9dd6-d81996e8c9be",
   "metadata": {},
   "source": [
    "In the rapidly evolving world of technology, artificial intelligence (AI) continues to push the boundaries of what machines are capable of achieving. As AI systems grow increasingly sophisticated, a compelling question arises: How intelligent are these systems, and can their intelligence be quantitatively measured similarly to human intelligence? The concept of Intelligence Quotient (IQ), traditionally used to gauge human cognitive abilities, offers a fascinating lens through which to assess. Before doing this analysis, I predict that since LLMs have a strong ability to problem solve, they will have a high, or even perfect IQ."
   ]
  },
  {
   "cell_type": "markdown",
   "id": "89ecf467-784c-4e52-aebe-ae038917b0b3",
   "metadata": {},
   "source": [
    "In this blog, I will be using a 10 question IQ test that covers all the real types of questions asked on a full length IQ test. You can take the test yourself here!\n",
    "https://www.123test.com/iq-test/"
   ]
  },
  {
   "cell_type": "markdown",
   "id": "9eb78f2c-1d4e-4ed0-8e78-c5503c90879f",
   "metadata": {},
   "source": [
    "## Overall score: 7/10\n",
    "On a human scale, this would be a strong IQ score. However, I was surprised by this result, since I expected the LLM to either get a perfect score or only get one of them wrong. Let's take a look at which questions the LLM got wrong."
   ]
  },
  {
   "cell_type": "markdown",
   "id": "445495b6-8fca-4587-b53a-753d06151af8",
   "metadata": {},
   "source": [
    "<img src=\"figureseries.png\" style=\"width:50%;\" />"
   ]
  },
  {
   "cell_type": "markdown",
   "id": "1db56871-b63b-4e7f-95d6-1d29e316585c",
   "metadata": {},
   "source": [
    "<img src=\"cube.png\" style=\"width:50%;\" />"
   ]
  },
  {
   "cell_type": "markdown",
   "id": "68e24ddc-8937-4efb-aea3-2058b041e836",
   "metadata": {},
   "source": [
    "<img src=\"composedfigure.png\" style=\"width:50%;\" />"
   ]
  },
  {
   "cell_type": "markdown",
   "id": "1db01988-0364-41fe-a7c2-c8b5ff651c6a",
   "metadata": {},
   "source": [
    "It seems like GPT-4 has difficulty processing visual patterns, even though it was able to identify numerical patterns effectively. This could raise questions about whether the limitations arise from difficulties in processing images or from a lack of \"knowledge\" about visual patterns. Furthermore, it would be insightful to investigate how this impacts GPT-4's performance across different types of visual tasks. Overall, this analysis underscores that AI isn't flawless in problem-solving, highlighting that there are still areas of knowledge that may be accessible to humans but remain challenging for AI."
   ]
  }
 ],
 "metadata": {
  "citation-manager": {
   "items": {}
  },
  "kernelspec": {
   "display_name": "Python 3.11 (COMM4190)",
   "language": "python",
   "name": "comm4190"
  },
  "language_info": {
   "codemirror_mode": {
    "name": "ipython",
    "version": 3
   },
   "file_extension": ".py",
   "mimetype": "text/x-python",
   "name": "python",
   "nbconvert_exporter": "python",
   "pygments_lexer": "ipython3",
   "version": "3.11.7"
  }
 },
 "nbformat": 4,
 "nbformat_minor": 5
}
