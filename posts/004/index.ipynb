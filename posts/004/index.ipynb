{
 "cells": [
  {
   "cell_type": "code",
   "execution_count": null,
   "id": "134b6386-1c0d-4fa2-8711-bb1f0af9ae43",
   "metadata": {},
   "outputs": [],
   "source": [
    "---\n",
    "title: \"Creating a Runway Show for LoveShackFancy\"\n",
    "description: \"Can AI understand LoveShackFancy's brand aesthetic?\"\n",
    "date: \"2/23/2024\"\n",
    "categories:\n",
    "  - LLMs\n",
    "  - prompting\n",
    "  - logic\n",
    "---"
   ]
  },
  {
   "cell_type": "markdown",
   "id": "fabcadf8-7f0e-4e51-835f-df9a11a66e24",
   "metadata": {},
   "source": [
    "## Introduction:\n",
    "LoveShackFancy is a rising fashion brand defined by its vintage aesthetic and its designs filled with ruffles, florals, and unique prints. To me, LoveShackFancy has one of the strongest brand images in the fashion industry; whenever I see one of their designs, I can tell that it's LoveShackFancy. With this, I wanted to see if the Dall-E-3 model could understand unique brand images in fashion."
   ]
  },
  {
   "cell_type": "markdown",
   "id": "f61ab60a-fc43-4f5a-bd21-c39c37b1eb47",
   "metadata": {},
   "source": [
    "## Prompt 1:\n",
    "I obtained this description of LoveShackFancy from an article on Google to give to the model. After providing this information, I told the model to generate a runway design based on this.\n"
   ]
  },
  {
   "cell_type": "markdown",
   "id": "2aa47918-ad73-4bf3-bb31-fc40bad254dd",
   "metadata": {},
   "source": [
    "Launched by former fashion editor Rebecca Cohen in 2013, the US brand has become renowned for its ditsy retro prints, breezy white cotton sun dresses and cosy knitted cardigans. Now with childrenswear, swimwear and nightwear under its belt, and with bridal and interiors coming next, the label is morphing into much more than the dress label it once was, heading into the direction of a full-blown lifestyle brand. We caught up with Cohen to find out how she got here and what might be next.\n",
    "\n",
    "Like many of the most successful fashion brands, Cohen launched her label after spotting a gap in the market. When planning her wedding, she found that there were no bridesmaid dresses that captured what she was looking for, so she decided to make her own.\n",
    "\n",
    "\"My mum and I decided to design these dreamy silk halter dresses that captured an ethereal but sexy sensibility,\" she explained. \"Everyone loved them and asked to purchase so I started hand-dying dresses in my backyard with my mum – playing around with a soft muted palette and selling them at trunk shows throughout the Hamptons.\"\n",
    "\n",
    "An overflow of pink, prints, ruffles and lace that speaks not just to romantics at heart but anyone who wants to feel beautiful and confident in their own skin.Based on this information, create a hyper realistic design for a runway model for a fashion show for this brand."
   ]
  },
  {
   "cell_type": "markdown",
   "id": "2bf7ada1-8ce1-47e4-9fe3-485cd9be3f0c",
   "metadata": {},
   "source": []
  },
  {
   "cell_type": "markdown",
   "id": "a699072f-dea8-4a10-9fce-83aecb624f9f",
   "metadata": {},
   "source": [
    "## Design 1"
   ]
  },
  {
   "cell_type": "markdown",
   "id": "c77929bc-228e-4f75-8b72-94b501b92f66",
   "metadata": {},
   "source": [
    "<img src=\"lsf1.png\" style=\"width:50%;\" />"
   ]
  },
  {
   "cell_type": "markdown",
   "id": "cccf991f-cbdc-4553-880f-2ca06a8fcbea",
   "metadata": {},
   "source": [
    "The design is quite simple but not bad. Let me try to generate another design using this prompt."
   ]
  },
  {
   "cell_type": "markdown",
   "id": "12136d77-ecd5-4705-b5d4-551b37adbad0",
   "metadata": {},
   "source": [
    "## Design 2"
   ]
  },
  {
   "cell_type": "markdown",
   "id": "20b847dd-fc1c-4981-a250-8e705c2ceacf",
   "metadata": {},
   "source": [
    "<img src=\"lsf2.png\" style=\"width:50%;\" />"
   ]
  },
  {
   "cell_type": "markdown",
   "id": "fabb82e1-b3e8-494b-8eee-f7b87d38f923",
   "metadata": {},
   "source": [
    "Part of what defines LoveShackFancy is their use of bright and pastel colors. However, I noticed that these designs seemed muted so I decided to generate a different prompt."
   ]
  },
  {
   "cell_type": "markdown",
   "id": "e00943b9-e3ce-4c6c-a5ce-8c08725e6fcd",
   "metadata": {},
   "source": [
    "## Generating a New Prompt"
   ]
  },
  {
   "cell_type": "markdown",
   "id": "3298105f-9264-4ab8-903c-8bc1211612d6",
   "metadata": {},
   "source": [
    "I decided to use the gpt-4-vision-preview model to see how AI would describe LoveShackFancy's brand. I input the image shown below and gave the prompt: \"What's in this image?\""
   ]
  },
  {
   "cell_type": "markdown",
   "id": "5d216be4-2263-487d-896b-34b9280df8ff",
   "metadata": {},
   "source": [
    "<img src=\"lsf.jpg\" style=\"width:50%;\" />"
   ]
  },
  {
   "cell_type": "markdown",
   "id": "e6163210-e0e0-417c-9a5b-bfe73d47b343",
   "metadata": {},
   "source": [
    "*In the image, I see a group of six individuals who appear to be women, dressed in various shades and styles of pink dresses. They are posing for a photo and some of them are wearing accessories such as headpieces adorned with flowers. Their outfits range from sparkly and embellished dresses to more ruffled and flowing fabrics. They are all smiling and appear to be in a celebratory mood. In the background, there is a wall decorated with an abundance of flowers, predominantly roses, which complement the pink theme of their attire. The setting suggests that they may be at a themed event or party.*"
   ]
  },
  {
   "cell_type": "markdown",
   "id": "8020842d-048c-4d9c-9d6b-039f0e5d7379",
   "metadata": {},
   "source": [
    "Since this seemed how AI would interpret LoveShackFancy's brand, I then used this description as a prompt for the Dall-e-3 model."
   ]
  },
  {
   "cell_type": "markdown",
   "id": "3cd9ee99-f568-4a1c-8f31-b249d062f320",
   "metadata": {},
   "source": [
    "## Revamped Designs"
   ]
  },
  {
   "cell_type": "markdown",
   "id": "94ad6f2f-32aa-4357-852f-343316b99ab5",
   "metadata": {},
   "source": [
    "<img src=\"lsf4.png\" style=\"width:50%;\" />"
   ]
  },
  {
   "cell_type": "markdown",
   "id": "13492a92-4bce-4db5-a4f9-3bafed127eae",
   "metadata": {},
   "source": [
    "The model recreated the image (I didn't prompt it to create a design), but the style seemed to match LoveShackFancy's! I then used this description and asked the model to create fashion designs based on it."
   ]
  },
  {
   "cell_type": "markdown",
   "id": "25452031-f963-4f3d-b7c7-213d6e8f1be5",
   "metadata": {},
   "source": [
    "#### New Design 1"
   ]
  },
  {
   "cell_type": "markdown",
   "id": "ca72be54-5ee9-4332-9322-2bc840d8c3a3",
   "metadata": {},
   "source": [
    "<img src=\"lsf5.png\" style=\"width:50%;\" />"
   ]
  },
  {
   "cell_type": "markdown",
   "id": "92427367-cc61-4a47-b200-3ba54f1d68ed",
   "metadata": {},
   "source": [
    "This design seemed better than the first design. The model seems slightly scary but that's ok."
   ]
  },
  {
   "cell_type": "markdown",
   "id": "b929eed5-66c0-47f1-a923-905030716bc7",
   "metadata": {},
   "source": [
    "#### New Design 2"
   ]
  },
  {
   "cell_type": "markdown",
   "id": "782925fa-c638-4cee-937b-0954be8a7e69",
   "metadata": {},
   "source": [
    "<img src=\"lsf6.png\" style=\"width:50%;\" />"
   ]
  },
  {
   "cell_type": "markdown",
   "id": "3921d279-bee0-47ee-aab7-46adb398daed",
   "metadata": {},
   "source": [
    "This design is again better than the last one, but I noticed that it slowly wasn't starting to represent LoveShackFancy's brand anymore. With it's tightfitting bodysuits and flower crowns, it seemed to start to feel like more of a Victoria's Secret fashion show. I specifically wanted to get rid of the excessive flowers: floral prints would be ok, and accessive amount of flowers is not. I then prompted the model to remove the flowers."
   ]
  },
  {
   "cell_type": "markdown",
   "id": "13701c84-b74c-407e-991f-ee7a7e6ea17b",
   "metadata": {},
   "source": [
    "#### New Design 3"
   ]
  },
  {
   "cell_type": "markdown",
   "id": "77a7c10a-e28a-4668-9571-0ac5451a9299",
   "metadata": {},
   "source": [
    "<img src=\"lsf9.png\" style=\"width:50%;\" />"
   ]
  },
  {
   "cell_type": "markdown",
   "id": "60ca2aa1-820f-4a22-b399-c59001ad27ad",
   "metadata": {},
   "source": [
    "The design of the dress is better but there are still many, *many* flowers to be seen. It seems that the model can't detect flowers from it's own design."
   ]
  },
  {
   "cell_type": "code",
   "execution_count": null,
   "id": "991f8834-5947-40ee-b91d-9ec5381a7de9",
   "metadata": {},
   "outputs": [],
   "source": []
  }
 ],
 "metadata": {
  "citation-manager": {
   "items": {}
  },
  "kernelspec": {
   "display_name": "Python 3.8",
   "language": "python",
   "name": "python3"
  },
  "language_info": {
   "codemirror_mode": {
    "name": "ipython",
    "version": 3
   },
   "file_extension": ".py",
   "mimetype": "text/x-python",
   "name": "python",
   "nbconvert_exporter": "python",
   "pygments_lexer": "ipython3",
   "version": "3.8.8"
  }
 },
 "nbformat": 4,
 "nbformat_minor": 5
}
