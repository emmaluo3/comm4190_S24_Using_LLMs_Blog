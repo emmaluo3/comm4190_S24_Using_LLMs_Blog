{
 "cells": [
  {
   "cell_type": "raw",
   "id": "864714a4-68da-4c25-b1aa-573aa29b3c5d",
   "metadata": {},
   "source": [
    "---\n",
    "title: \"Understanding Cultural Norms\"\n",
    "description: \"How well do LLMs understand Chinese culture\"\n",
    "date: \"5/9/2024\"\n",
    "categories:\n",
    "  - LLMs\n",
    "  - prompting\n",
    "  - Chinese\n",
    "---"
   ]
  },
  {
   "cell_type": "markdown",
   "id": "e4cf0450-8714-463f-a6a6-933b0973ec3f",
   "metadata": {},
   "source": [
    "With my flight leaving for Shanghai tomorrow, I wanted to do a blog post seeing how AI understands different cultures and the extent in which LLMs can \"act\" appropriately based on cultural contexts. In this blog I will be exploring Chinese culture and etiquette in particular."
   ]
  },
  {
   "cell_type": "markdown",
   "id": "b0055262-6b3e-4679-bbc8-799e80b45326",
   "metadata": {},
   "source": [
    "### No shoes inside the house\n",
    "Those in Asian countries do not wear shoes inside their homes. Instead, they may opt for slippers instead in order to keep the house clean.\n",
    ">Prompt: You have just arrived at your friend's house in Shanghai.  What should you do before stepping in the house?\n",
    ">\n",
    ">GPT-4: When visiting a friend's house in Shanghai, or elsewhere in China, it's considerate to follow a few customary practices:\n",
    "\n",
    "1. **Remove Your Shoes:** It is common to take off your shoes before entering someone's home in China. This helps keep the home clean. Often, hosts will provide slippers for guests to wear inside.\n",
    "\n",
    "2. **Bring a Gift:** It's a kind gesture to bring a small gift when visiting someone's home. This could be fruit, tea, or another item that shows appreciation. It's polite to present the gift with both hands.\n",
    "\n",
    "3. **Greet Politely:** When you meet your host, greet them with a polite greeting. A simple nod or a slight bow can be appreciated, though handshakes are also common now.\n",
    "\n",
    "4. **Wait to Be Directed:** Your host will likely show you where to sit and guide the visit. Follow their lead to show respect for their hospitality.\n",
    "\n",
    ">These gestures are appreciated and show respect for your host's culture and customs.\n",
    "\n",
    "GPT-4 was able to identify the cultural norm that I was implying it to respond to. Moreover, it provides detail on the topic, such as hosts providing slippers for guests.\n"
   ]
  },
  {
   "cell_type": "markdown",
   "id": "73cf3c28-da16-4f4e-a56a-9bd3101bee1e",
   "metadata": {},
   "source": [
    "### 'Turning Down' Offers\n",
    "In Chinese culture, when one is offered something (e.g. a snack or beverage), it is polite to turn down the offer before accepting it to remain humble and not appear greedy. Then, it is customary for the person who made the offer to keep on 'insisting' until one accepts, whereas in America, it is appropriate for one to accept an offer if he/she pleases.\n",
    ">Prompt: You are at your friend's house in Shanghai and your friend offers you some snacks. What would you respond with?\n",
    ">\n",
    ">GPT-4: I might say, \"Thank you! What kind of snacks are these?\" This shows gratitude and also opens up a conversation about the snacks, which can be a nice way to engage and learn more about local or personal favorites."
   ]
  },
  {
   "cell_type": "markdown",
   "id": "52e8222d-98a0-4f45-bb34-5b4ea6dd14da",
   "metadata": {},
   "source": [
    "It appears that GPT-4 did not understand which cultural norm I was refering to. Therefore, I tried again using different prompting. \n",
    ">Prompt: You are at your friend's house in Shanghai and your friend offers you some snacks. What would be an appropriate response in regards to cultural norms?\n",
    ">\n",
    ">GPT-4: In Shanghai, as in many parts of China, it's common to show politeness and gratitude when offered something like snacks. A typical and appropriate response would be to initially decline the offer politely, which shows humility. You might say something like, \"Thank you, but I’m okay for now\" or \"Thank you, I just had something to eat.\" Often, the host will insist once or twice more if they really want you to have some. At this point, it's perfectly fine to accept graciously with a simple, \"Thank you, I'd love to try some\" or just a cheerful \"Thank you!\" This back-and-forth is a polite dance that shows respect and consideration for each other's hospitality and generosity."
   ]
  },
  {
   "cell_type": "markdown",
   "id": "d8fda614-c2eb-4ff1-8cd7-3735097a5656",
   "metadata": {},
   "source": [
    "GPT's response was accurate, however this topic required additional prompting. "
   ]
  },
  {
   "cell_type": "markdown",
   "id": "37e06ee3-2999-445e-87f6-07046e35e6fa",
   "metadata": {},
   "source": [
    "### Tipping Culture\n",
    "Unlike in America, tipping is not required and even looked down upon.\n",
    ">Prompt: You are at a restaurant in Shanghai and you just got your bill. How much do you tip?\n",
    ">\n",
    ">GPT-4: In Shanghai, and generally in China, tipping is not a common practice and is not expected in restaurants. Most restaurants will include a service charge in the bill, and any additional tipping is usually not necessary. However, in more international or upscale establishments in major cities like Shanghai, a small tip might be appreciated but it is not obligatory. If you feel inclined to leave a tip for exceptional service, around 10% of the bill would be generous.\n",
    "\n",
    "I found it surprising how GPT-4 was able to detect that it should not tip since I attempted to 'trick' the LLM into thinking that tipping was necessary by framing the question as \"How much do you tip\" instead of something along the lines of \"should you tip?\""
   ]
  },
  {
   "cell_type": "markdown",
   "id": "0b9ccdf6-c93e-4aa2-b54c-72ab6311f726",
   "metadata": {},
   "source": [
    "### Slurping Soup\n",
    "Although slurping soup is a sign of disrespect or something that is looked down upon, in Chinese culture, it is a sign of appreciation for the food. \n",
    ">Me: You are at your friend's house in Shanghai and her mom made soup for you. You want to show that you appreciate the food.\n",
    ">\n",
    ">GPT-4: In this situation, you can express your appreciation by saying, \"这个汤非常好喝，谢谢阿姨！\" which means \"This soup is very delicious, thank you, Auntie!\" in English. It's also polite to compliment specific aspects you enjoyed, such as the flavor or warmth, which shows that you genuinely appreciate her effort. A smile and a thankful demeanor will also go a long way in conveying your gratitude.\n",
    "\n",
    "Although this would be an appropriate response, it was not the response I was looking for. Also, I did not expect GPT-4 to provide a statement in Chinese. I adjusted my prompting to help the LLM understand what I was looking for.\n",
    "\n",
    ">Me: You are at your friend's house in Shanghai and her mom made soup for you. You want to show that you appreciate the food, in what way can you eat the soup to do so?\n",
    "\n",
    ">GPT-4\n",
    "In Shanghai, showing appreciation for a meal can be expressed in a few subtle but meaningful ways. Here are some tips on how you can eat the soup to show your gratitude:\n",
    ">Savor the Soup: Take your time to enjoy the soup. Expressing enjoyment through your reactions, like nodding or making satisfied noises, can be a clear sign of appreciation.\n",
    "Compliments: After tasting the soup, it’s polite to offer compliments to the cook. You could say something like, \"这汤真好喝\" (Zhè tāng zhēn hǎo hē), which means \"This soup is really delicious.\"\n",
    "Finish Your Soup: In many cultures, including Chinese, finishing your food is a sign of respect and appreciation for the meal provided. Try to finish the soup if you can.\n",
    "Use Proper Etiquette: Use the spoon provided and hold the bowl with your other hand if needed. Slurping lightly can be seen as a sign that you are enjoying the meal, though it’s best to gauge the family's dining style first.\n",
    "Ask for More: If you genuinely liked the soup, asking for a second helping can also show that you really appreciated and enjoyed the meal.\n",
    "By following these tips, you'll be able to convey your gratitude effectively through your dining etiquette."
   ]
  },
  {
   "cell_type": "markdown",
   "id": "4fbe99fb-82b6-4bdf-8b8c-7732fad3d317",
   "metadata": {},
   "source": [
    "Again, I was surprised on ChatGPT's Chinese language abilities but this wasn't the response I was hoping for."
   ]
  },
  {
   "cell_type": "markdown",
   "id": "08e036dd-53a2-4a7a-9f1e-0b8702d547b2",
   "metadata": {},
   "source": [
    "### Conclusion\n",
    "Overall, GPT-4 was able to exhibit the main nuances of Chinese but are unable to fully understand certain specifics. However, it was interesting to see how the LLM could adjust itself to better fit the norms of a different culture. In future blogs it would be interesting to explore this idea with other countries as well."
   ]
  }
 ],
 "metadata": {
  "citation-manager": {
   "items": {}
  },
  "kernelspec": {
   "display_name": "Python 3.11 (COMM4190)",
   "language": "python",
   "name": "comm4190"
  },
  "language_info": {
   "codemirror_mode": {
    "name": "ipython",
    "version": 3
   },
   "file_extension": ".py",
   "mimetype": "text/x-python",
   "name": "python",
   "nbconvert_exporter": "python",
   "pygments_lexer": "ipython3",
   "version": "3.11.7"
  }
 },
 "nbformat": 4,
 "nbformat_minor": 5
}
