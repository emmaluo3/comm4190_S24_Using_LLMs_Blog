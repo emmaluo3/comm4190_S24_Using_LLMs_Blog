{
 "cells": [
  {
   "cell_type": "code",
   "execution_count": 2,
   "id": "ab6cc80b-c0c1-49ad-84ac-a420ba1ff878",
   "metadata": {},
   "outputs": [
    {
     "ename": "SyntaxError",
     "evalue": "invalid syntax (1502639792.py, line 1)",
     "output_type": "error",
     "traceback": [
      "\u001b[0;36m  File \u001b[0;32m\"/tmp/ipykernel_772896/1502639792.py\"\u001b[0;36m, line \u001b[0;32m1\u001b[0m\n\u001b[0;31m    ---\u001b[0m\n\u001b[0m       ^\u001b[0m\n\u001b[0;31mSyntaxError\u001b[0m\u001b[0;31m:\u001b[0m invalid syntax\n"
     ]
    }
   ],
   "source": [
    "---\n",
    "title: \"Moral Dilemmas\"\n",
    "description: \"Does AI 'think' of moral dilemmas in the same way that we do?\"\n",
    "date: \"4/25/2024\"\n",
    "categories:\n",
    "  - LLMs\n",
    "  - prompting\n",
    "  - moral dilemmas\n",
    "---"
   ]
  },
  {
   "cell_type": "markdown",
   "id": "5e8d9ed7-fee4-4ec1-91d9-6ac923d412e9",
   "metadata": {},
   "source": [
    "Recently, Buzzfeed published [9 Moral Dilemmas That Will Break Your Brain](https://www.buzzfeed.com/tracyclayton/moral-dilemmas-that-will-break-your-brain). Not only does this article list mind-boggling moral dilemmas, but it also shows the distribution of votes on what people would choose. With this, in this blog post, I will be comparing the decisions of GPT 4 to the voters in this article."
   ]
  },
  {
   "cell_type": "markdown",
   "id": "514cc2eb-e59d-4a04-8d7c-d2dca6c0b550",
   "metadata": {},
   "source": [
    "## Your Best Friend's Wedding\n",
    "*You are at your best friend's wedding just an hour before the ceremony is to start. Earlier that day, you came across definitive proof that your best friend's spouse-to-be is having an affair with the best man/maid of honor, and you catch them sneaking out of a room together looking disheveled. If you tell your friend about the affair, their day will be ruined, but you don't want them to marry a cheater. What do you do?*"
   ]
  },
  {
   "cell_type": "markdown",
   "id": "4c4b6dc6-d651-4b7b-8bba-e68433e23c6e",
   "metadata": {},
   "source": [
    "GPT: When I first gave this prompt to GPT 4, it only gave me a general overview of the pros and cons of each decision, but didn't actually make a decision.\n",
    "GPT: This is a tremendously difficult situation with no easy answers, as each option carries significant emotional weight and potential consequences. Here's a breakdown of each option:\n",
    "\n",
    ">1. **Tell Your Best Friend**: This approach prioritizes honesty and the long-term well-being of your friend. By telling them, you allow your friend to make an informed decision about their future with all the facts on hand. It's a gesture that, despite potentially devastating immediate consequences, could be seen as an act of true friendship and care in the long run. However, it risks causing immense emotional distress on what should be one of the happiest days of their life.\n",
    "\n",
    ">2. **Say Nothing**: This option focuses on maintaining the peace and happiness of the wedding day itself. It avoids immediate conflict and ensures that the celebration goes on as planned. However, withholding this information can lead to feelings of betrayal if your friend later discovers the truth and learns that you knew all along. It could damage your friendship permanently and leave your friend feeling deceived by both their spouse and you.\n",
    "\n",
    ">Given the gravity of the situation, one approach could be to consider a third option:\n",
    "\n",
    ">3. **Seek a Private Moment to Speak with the Spouse-to-Be**: Confronting the spouse-to-be privately before making a decision could provide a clearer picture of the situation. This could involve asking for an explanation and assessing their willingness to come clean themselves. Depending on their response, you could then make a more informed decision about whether to tell your friend.\n",
    "\n",
    ">Each option requires careful consideration of your values, your friendship, and the potential outcomes of your actions. Whatever you decide, it’s important to proceed with compassion and empathy for all involved."
   ]
  },
  {
   "cell_type": "markdown",
   "id": "3f0be534-bf7b-42a9-bba4-8fe8143b8dd6",
   "metadata": {},
   "source": [
    "I then had to tell GPT again to say what it would do.\n",
    "\n",
    "*GPT's Decision*: Tell your best friend; sure the day will be ruined, but better a day ruined than an entire life.\n",
    "\n",
    "*Voters' Decision*: Tell your best friend; sure the day will be ruined, but better a day ruined than an entire life (88%)"
   ]
  },
  {
   "cell_type": "markdown",
   "id": "2555c0bc-1ddb-4b58-be45-9308c38cedba",
   "metadata": {},
   "source": [
    "The voters' responses to this dilemma didn't seem that diverted; the decision seemed pretty obvious and one-sided for most people. Therefore, I wanted my next dilemma that I would test with to have more of a divide with the responses (59% vs. 41%)."
   ]
  },
  {
   "cell_type": "markdown",
   "id": "0630383c-14d5-4645-a8b8-9253b264b03b",
   "metadata": {},
   "source": [
    "## Company Policy\n",
    "*You have a job as network administrator for a company that also employs your best friend's husband. One day, your best friend's husband sends you a message asking you to release an email from quarantine. This requires you to open the email, at which point you discover that it's correspondence between this guy and his secret lover. After releasing the email, you find yourself in a pickle. Your instinct is to tell your best friend about his husband's infidelities, but divulging the contents of company emails is against company policy and you could lose your job. Once it becomes plain that your best friend found out about his cheating husband through a company email, all trails will inevitably lead to you as the leak. Do you tell him about the indiscretion?*"
   ]
  },
  {
   "cell_type": "markdown",
   "id": "3472177a-69e9-440d-8801-5d5ee23087f2",
   "metadata": {},
   "source": [
    "*GPT's Decision*: No; it sucks that your best friend has a cheating husband, but you can't risk losing your job.\n",
    "\n",
    "*Voters' Decision*: Yes; your loyalty to your best friend eclipses any company policy(59%)."
   ]
  },
  {
   "cell_type": "markdown",
   "id": "8bf5ece5-2a38-481b-bec1-7f0e7d9996d1",
   "metadata": {},
   "source": [
    "## A Difficult Decision\n",
    "*You and your son are prisoners at a concentration camp. You son tried to escape but was recaptured and sentenced to hang at the gallows. To send a message to all others who may try to escape, the guard orders you to pull the chair out from under your son; if you refuse, the guard will kill your son and another innocent person in the camp. What do you do?*"
   ]
  },
  {
   "cell_type": "markdown",
   "id": "9d385604-9433-45a1-a7e6-3075a9367b66",
   "metadata": {},
   "source": [
    "For some reason even though I clarified to GPT once after the prompt to answer \"what would you do?\", it still was unable to provide an answer.\n",
    ">GPT: As an AI, I don't have personal feelings or experiences, so I can't make choices like a human would. My role is to help explore different perspectives and considerations that might go into making such a decision, but I don't have personal preferences or moral judgments. If you're pondering what decision might be best or want to discuss the ethical implications further, I'm here to help with that discussion.\n",
    ">\n",
    ">Me: can you just choose\n",
    ">\n",
    ">GPT: Sure, if we were to choose based on a principle, let’s consider the perspective of minimizing overall harm:\n",
    "\n",
    ">Tearfully pull the chair out from under your son. This choice, while agonizing, might be driven by the intent to save the life of another innocent person, assuming the unbearable cost of personal involvement in a tragic act. It’s a decision that prioritizes reducing the total number of victims under horrific circumstances."
   ]
  },
  {
   "cell_type": "markdown",
   "id": "e59a007a-4fbd-4869-8bb8-f68ce1648279",
   "metadata": {},
   "source": [
    "*GPT's Decision*: Tearfully pull the chair out from under your son.\n",
    "\n",
    "*Voters' Decision*: Tearfully pull the chair out from under your son. (62%)\n",
    "With this dilemma, I suspect that the reason that GPT was so hesitant to provide a direct response was because this dilemma is more violent than the other ones that I provided"
   ]
  },
  {
   "cell_type": "markdown",
   "id": "0593d3bf-e836-426a-a37e-c35d5b18255d",
   "metadata": {},
   "source": [
    "## Conclusion\n",
    "Overall, GPT's responses seem to align with human responses when it comes to moral dilemmas. However, possibly due to the nature of GPT, it was difficult to get the LLM to even respond with a direct answer after initially providing the question."
   ]
  },
  {
   "cell_type": "code",
   "execution_count": null,
   "id": "0ac320bf-da90-430a-8583-19c1cf293e1b",
   "metadata": {},
   "outputs": [],
   "source": []
  }
 ],
 "metadata": {
  "citation-manager": {
   "items": {}
  },
  "kernelspec": {
   "display_name": "Python 3.8",
   "language": "python",
   "name": "python3"
  },
  "language_info": {
   "codemirror_mode": {
    "name": "ipython",
    "version": 3
   },
   "file_extension": ".py",
   "mimetype": "text/x-python",
   "name": "python",
   "nbconvert_exporter": "python",
   "pygments_lexer": "ipython3",
   "version": "3.8.8"
  }
 },
 "nbformat": 4,
 "nbformat_minor": 5
}
