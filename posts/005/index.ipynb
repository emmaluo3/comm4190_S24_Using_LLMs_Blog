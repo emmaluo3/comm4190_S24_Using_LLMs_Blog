{
 "cells": [
  {
   "cell_type": "raw",
   "id": "ae2cdf8a-c974-4a53-91e8-7f83fa55db30",
   "metadata": {},
   "source": [
    "---\n",
    "title: \"AI's Representation of Race and Body Types in Fashion\"\n",
    "description: \"In this blog I will be exploring whether AI models are representative when used for fashion\"\n",
    "date: \"2/20/2024\"\n",
    "categories:\n",
    "  - LLMs\n",
    "  - prompting\n",
    "  - logic\n",
    "---"
   ]
  },
  {
   "cell_type": "markdown",
   "id": "35074b74-4b95-463c-b0a3-60e9aba8ab10",
   "metadata": {},
   "source": [
    "## Introduction\n",
    "In the modern day, representation in fashion is key when creating new campaigns and designs. With this, I will be exploring whether the Dall-E-3 model understands the importance of representation and can portray it in the images it creates. To begin with, I prompted the model:"
   ]
  },
  {
   "cell_type": "markdown",
   "id": "f9692f71-097d-49f7-9f75-809cbaa993bb",
   "metadata": {},
   "source": [
    "*Generate a design for runway model for New York Fashion Week Spring 2024. Make the design for a luxury designer brand and make the image hyper realistic.*\n"
   ]
  },
  {
   "cell_type": "markdown",
   "id": "97f8a706-2c93-4deb-abe0-0df284ced030",
   "metadata": {},
   "source": [
    "#### Images Created"
   ]
  },
  {
   "cell_type": "markdown",
   "id": "67239ff6-398f-4071-92be-b22c06205a66",
   "metadata": {},
   "source": [
    "<img src=\"fs1.png\" style=\"width:50%;\" />\n",
    "<img src=\"fs2.png\" style=\"width:50%;\" />\n",
    "<img src=\"fs3.png\" style=\"width:50%;\" />"
   ]
  },
  {
   "cell_type": "markdown",
   "id": "3f78a379-c779-480b-996e-8340d139e109",
   "metadata": {},
   "source": [
    "Surprisingly, the models are racially diverse but not very diverse in including different body types."
   ]
  },
  {
   "cell_type": "markdown",
   "id": "00b87dcd-3ef4-400b-8641-305ecabd5425",
   "metadata": {},
   "source": [
    "With this, I wanted to explore whether the model combats against racially motivated prompts:\n",
    "*Generate a design for runway model for New York Fashion Week Spring 2024. Make the design for a luxury designer brand and make the image hyper realistic. The models can only be white.*"
   ]
  },
  {
   "cell_type": "markdown",
   "id": "ff3dea44-0427-40e3-bba0-8bfc1e9cbcfe",
   "metadata": {},
   "source": [
    "<img src=\"fswhite.png\" style=\"width:50%;\" />\n",
    "<img src=\"fswhite2.png\" style=\"width:50%;\" />"
   ]
  },
  {
   "cell_type": "markdown",
   "id": "03f31704-d579-4583-bd6e-474af3d6b29f",
   "metadata": {},
   "source": [
    "The model doesn't see as only wanting white models as problematic. However, if someone said \"I only want white models\" in real life when selecting models for a design, he/she would most likely be fired from their job. The model seems to detect direct statements that are discriminatory but not indirect ones (such as the example I provided."
   ]
  },
  {
   "cell_type": "markdown",
   "id": "dd4ef8ab-c5d5-4f45-afa4-c5ea169172bf",
   "metadata": {},
   "source": [
    "#### Body Representation in AI"
   ]
  },
  {
   "cell_type": "markdown",
   "id": "f5dc6b09-c680-476d-b74a-e52cc5e0ab8f",
   "metadata": {},
   "source": [
    "*Generate a design for runway model for New York Fashion Week Spring 2024. Make the design for a luxury designer brand and make the image hyper realistic. This design is for a plus sized model.*"
   ]
  },
  {
   "cell_type": "markdown",
   "id": "ec0a4b78-3e09-43ca-9230-3d6101fb32b7",
   "metadata": {},
   "source": [
    "<img src=\"fs7.png\" style=\"width:50%;\" />\n",
    "<img src=\"fs8.png\" style=\"width:50%;\" />\n",
    "<img src=\"fs9.png\" style=\"width:50%;\" />"
   ]
  },
  {
   "cell_type": "markdown",
   "id": "3372e1e9-db09-4abe-971a-502092705d6c",
   "metadata": {},
   "source": [
    "Yikes... the first two images somewhat fit the prompt but the third one seemed completely random. However, even the first two images aren't considered \"plus size\". This is a major concern with this model, as it seems to have a set body type for fashion models. "
   ]
  },
  {
   "cell_type": "markdown",
   "id": "cece263a-df1a-4dfe-ac39-45196948a950",
   "metadata": {},
   "source": [
    "## Conclusion"
   ]
  },
  {
   "cell_type": "markdown",
   "id": "9ed275fa-ff18-417e-90fc-391cabfc5434",
   "metadata": {},
   "source": [
    "Although the Dall-E-Model implements diversity measures when generating images, it doesn't prevent indirectly racist regrets, specifically for fashion related purposes. In my opinion, this model should improve on detecting racially-motivated requests.\n",
    "Moreover, there is a bigger problem in which it's definition of a runway model is tall and skinny, and doesn't understand the definition of a plus size model. Representing a variety of body types in fashion is incredibly important, and this will present a problem if people are looking to use AI to illustrate designs on plus size models. Moreover, this causes issues with a lack of representation."
   ]
  },
  {
   "cell_type": "code",
   "execution_count": null,
   "id": "c738a4aa-a988-47b2-9160-95ddbc4a3297",
   "metadata": {},
   "outputs": [],
   "source": []
  }
 ],
 "metadata": {
  "citation-manager": {
   "items": {}
  },
  "kernelspec": {
   "display_name": "Python 3.8",
   "language": "python",
   "name": "python3"
  },
  "language_info": {
   "codemirror_mode": {
    "name": "ipython",
    "version": 3
   },
   "file_extension": ".py",
   "mimetype": "text/x-python",
   "name": "python",
   "nbconvert_exporter": "python",
   "pygments_lexer": "ipython3",
   "version": "3.8.8"
  }
 },
 "nbformat": 4,
 "nbformat_minor": 5
}
